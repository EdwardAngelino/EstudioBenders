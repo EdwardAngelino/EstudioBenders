{
 "cells": [
  {
   "cell_type": "code",
   "execution_count": 13,
   "id": "b60bee7d-460e-4319-adab-b9348cfc9a99",
   "metadata": {},
   "outputs": [],
   "source": [
    "using StochasticPrograms\n",
    "using GLPK"
   ]
  },
  {
   "cell_type": "code",
   "execution_count": 14,
   "id": "df630fbb-a047-463b-b69a-d0b8e8e76fd2",
   "metadata": {},
   "outputs": [
    {
     "data": {
      "text/plain": [
       "Two-Stage Stochastic Model\n",
       "\n",
       "minimize f₀(x) + 𝔼[f(x,ξ)]\n",
       "  x∈𝒳\n",
       "\n",
       "where\n",
       "\n",
       "f(x,ξ) = min  f(y; x, ξ)\n",
       "              y ∈ 𝒴 (x, ξ)\n"
      ]
     },
     "execution_count": 14,
     "metadata": {},
     "output_type": "execute_result"
    }
   ],
   "source": [
    "@stochastic_model simple_model begin\n",
    "    @stage 1 begin\n",
    "        @decision(simple_model, x₁ >= 40)\n",
    "        @decision(simple_model, x₂ >= 20)\n",
    "        @objective(simple_model, Min, 100*x₁ + 150*x₂)\n",
    "        @constraint(simple_model, x₁ + x₂ <= 120)\n",
    "    end\n",
    "    @stage 2 begin\n",
    "        @uncertain q₁ q₂ d₁ d₂\n",
    "        @recourse(simple_model, 0 <= y₁ <= d₁)\n",
    "        @recourse(simple_model, 0 <= y₂ <= d₂)\n",
    "        @objective(simple_model, Max, q₁*y₁ + q₂*y₂)\n",
    "        @constraint(simple_model, 6*y₁ + 10*y₂ <= 60*x₁)\n",
    "        @constraint(simple_model, 8*y₁ + 5*y₂ <= 80*x₂)\n",
    "    end\n",
    "end\n"
   ]
  },
  {
   "cell_type": "code",
   "execution_count": 15,
   "id": "1ad850d6-c753-4ffc-a015-1feaf4f6a870",
   "metadata": {},
   "outputs": [
    {
     "data": {
      "text/plain": [
       "Scenario with probability 0.6\n",
       "  q₁: 28.0\n",
       "  q₂: 32.0\n",
       "  d₁: 300.0\n",
       "  d₂: 300.0"
      ]
     },
     "execution_count": 15,
     "metadata": {},
     "output_type": "execute_result"
    }
   ],
   "source": [
    "ξ₁ = @scenario q₁ = 24.0 q₂ = 28.0 d₁ = 500.0 d₂ = 100.0 probability = 0.4\n",
    "ξ₂ = @scenario q₁ = 28.0 q₂ = 32.0 d₁ = 300.0 d₂ = 300.0 probability = 0.6"
   ]
  },
  {
   "cell_type": "code",
   "execution_count": 16,
   "id": "c8feb217-d841-4b30-b906-e02d14e04803",
   "metadata": {},
   "outputs": [
    {
     "data": {
      "text/plain": [
       "Stochastic program with:\n",
       " * 2 decision variables\n",
       " * 2 recourse variables\n",
       " * 2 scenarios of type Scenario\n",
       "Structure: Deterministic equivalent\n",
       "Solver name: GLPK"
      ]
     },
     "execution_count": 16,
     "metadata": {},
     "output_type": "execute_result"
    }
   ],
   "source": [
    "sp = instantiate(simple_model, [ξ₁, ξ₂], optimizer = GLPK.Optimizer)"
   ]
  },
  {
   "cell_type": "code",
   "execution_count": 17,
   "id": "e7df10c5-7df6-465c-b050-92caf044ff51",
   "metadata": {},
   "outputs": [
    {
     "name": "stdout",
     "output_type": "stream",
     "text": [
      "Deterministic equivalent problem\n",
      "Min 100 x₁ + 150 x₂ - 9.600000000000001 y₁₁ - 11.200000000000001 y₂₁ - 16.8 y₁₂ - 19.2 y₂₂\n",
      "Subject to\n",
      " x₁ in Decisions\n",
      " x₂ in Decisions\n",
      " y₁₁ in RecourseDecisions\n",
      " y₂₁ in RecourseDecisions\n",
      " y₁₂ in RecourseDecisions\n",
      " y₂₂ in RecourseDecisions\n",
      " x₁ >= 40.0\n",
      " x₂ >= 20.0\n",
      " y₁₁ >= 0.0\n",
      " y₂₁ >= 0.0\n",
      " y₁₂ >= 0.0\n",
      " y₂₂ >= 0.0\n",
      " x₁ + x₂ <= 120.0\n",
      " -60 x₁ + 6 y₁₁ + 10 y₂₁ <= 0.0\n",
      " -80 x₂ + 8 y₁₁ + 5 y₂₁ <= 0.0\n",
      " -60 x₁ + 6 y₁₂ + 10 y₂₂ <= 0.0\n",
      " -80 x₂ + 8 y₁₂ + 5 y₂₂ <= 0.0\n",
      " y₁₁ <= 500.0\n",
      " y₂₁ <= 100.0\n",
      " y₁₂ <= 300.0\n",
      " y₂₂ <= 300.0\n",
      "Solver name: GLPK"
     ]
    }
   ],
   "source": [
    "print(sp)"
   ]
  },
  {
   "cell_type": "code",
   "execution_count": 6,
   "id": "fad5c08d-3e59-4468-885e-99224df3e825",
   "metadata": {},
   "outputs": [],
   "source": [
    "optimize!(sp)"
   ]
  },
  {
   "cell_type": "code",
   "execution_count": 7,
   "id": "2a301ade-f9cb-459d-817e-5341f9f149c3",
   "metadata": {},
   "outputs": [
    {
     "data": {
      "text/plain": [
       "Stochastic program with:\n",
       " * 2 decision variables\n",
       " * 2 recourse variables\n",
       " * 2 scenarios of type Scenario\n",
       "Structure: Stage-decomposition\n",
       "Solver name: L-shaped with disaggregate cuts"
      ]
     },
     "execution_count": 7,
     "metadata": {},
     "output_type": "execute_result"
    }
   ],
   "source": [
    "sp_lshaped = instantiate(simple_model, [ξ₁, ξ₂], optimizer = LShaped.Optimizer)"
   ]
  },
  {
   "cell_type": "code",
   "execution_count": 8,
   "id": "4ca07fd8-afbe-4d3a-856c-ca4f8ef70ebf",
   "metadata": {},
   "outputs": [
    {
     "name": "stdout",
     "output_type": "stream",
     "text": [
      "First-stage \n",
      "============== \n",
      "Min 100 x₁ + 150 x₂\n",
      "Subject to\n",
      " x₁ in Decisions\n",
      " x₂ in Decisions\n",
      " x₁ >= 40.0\n",
      " x₂ >= 20.0\n",
      " x₁ + x₂ <= 120.0\n",
      "\n",
      "Second-stage \n",
      "============== \n",
      "Subproblem 1 (p = 0.40):\n",
      "Max 24 y₁ + 28 y₂\n",
      "Subject to\n",
      " x₁ in Known(value = 40.0)\n",
      " x₂ in Known(value = 20.0)\n",
      " y₁ in RecourseDecisions\n",
      " y₂ in RecourseDecisions\n",
      " y₁ >= 0.0\n",
      " y₂ >= 0.0\n",
      " y₁ <= 500.0\n",
      " y₂ <= 100.0\n",
      " -60 x₁ + 6 y₁ + 10 y₂ <= 0.0\n",
      " -80 x₂ + 8 y₁ + 5 y₂ <= 0.0\n",
      "\n",
      "Subproblem 2 (p = 0.60):\n",
      "Max 28 y₁ + 32 y₂\n",
      "Subject to\n",
      " x₁ in Known(value = 40.0)\n",
      " x₂ in Known(value = 20.0)\n",
      " y₁ in RecourseDecisions\n",
      " y₂ in RecourseDecisions\n",
      " y₁ >= 0.0\n",
      " y₂ >= 0.0\n",
      " y₁ <= 300.0\n",
      " y₂ <= 300.0\n",
      " -60 x₁ + 6 y₁ + 10 y₂ <= 0.0\n",
      " -80 x₂ + 8 y₁ + 5 y₂ <= 0.0\n",
      "\n",
      "Solver name: L-shaped with disaggregate cuts"
     ]
    }
   ],
   "source": [
    "print(sp_lshaped)"
   ]
  },
  {
   "cell_type": "code",
   "execution_count": 9,
   "id": "b44c4cff-baa5-488d-b536-73e673edc68f",
   "metadata": {},
   "outputs": [],
   "source": [
    "set_optimizer_attribute(sp_lshaped, MasterOptimizer(), GLPK.Optimizer)\n",
    "set_optimizer_attribute(sp_lshaped, SubProblemOptimizer(), GLPK.Optimizer)"
   ]
  },
  {
   "cell_type": "code",
   "execution_count": 10,
   "id": "647b3d3a-f3cd-444a-834e-48428ad9f92b",
   "metadata": {},
   "outputs": [
    {
     "name": "stderr",
     "output_type": "stream",
     "text": [
      "\u001b[33m\u001b[1m┌ \u001b[22m\u001b[39m\u001b[33m\u001b[1mWarning: \u001b[22m\u001b[39mProgressMeter by default refresh meters with additional information in IJulia via `IJulia.clear_output`, which clears all outputs in the cell. \n",
      "\u001b[33m\u001b[1m│ \u001b[22m\u001b[39m - To prevent this behaviour, do `ProgressMeter.ijulia_behavior(:append)`. \n",
      "\u001b[33m\u001b[1m│ \u001b[22m\u001b[39m - To disable this warning message, do `ProgressMeter.ijulia_behavior(:clear)`.\n",
      "\u001b[33m\u001b[1m└ \u001b[22m\u001b[39m\u001b[90m@ ProgressMeter C:\\Users\\eangelino\\.julia\\packages\\ProgressMeter\\sN2xr\\src\\ProgressMeter.jl:618\u001b[39m\n",
      "\u001b[32mL-Shaped Gap  Time: 0:00:01 (6 iterations)\u001b[39m\n",
      "\u001b[34m  Objective:       -855.8333333333358\u001b[39m\n",
      "\u001b[34m  Gap:             0.0\u001b[39m\n",
      "\u001b[34m  Number of cuts:  8\u001b[39m\n",
      "\u001b[34m  Iterations:      6\u001b[39m\n"
     ]
    }
   ],
   "source": [
    "optimize!(sp_lshaped)"
   ]
  },
  {
   "cell_type": "code",
   "execution_count": 11,
   "id": "22d53c9d-aff2-4970-98ee-f20a645a7db7",
   "metadata": {},
   "outputs": [
    {
     "name": "stdout",
     "output_type": "stream",
     "text": [
      "First-stage \n",
      "============== \n",
      "Min 100 x₁ + 150 x₂ + θ₁ + θ₂\n",
      "Subject to\n",
      " x₁ in Decisions\n",
      " x₂ in Decisions\n",
      " x₁ >= 40.0\n",
      " x₂ >= 20.0\n",
      " x₁ + x₂ <= 120.0\n",
      " 179.2 x₂ + θ₁ >= 0.0\n",
      " 307.2 x₂ + θ₂ >= 0.0\n",
      " 96 x₁ + θ₁ >= 0.0\n",
      " 115.19999999999999 x₁ + θ₂ >= -1584.0\n",
      " 96.00000000000001 x₂ + θ₁ >= -520.0\n",
      " 168 x₂ + θ₂ >= -2610.000000000001\n",
      " 83.51999999999998 x₁ + 84.48000000000005 x₂ + θ₂ >= 0.0\n",
      " 49.92 x₁ + 46.08 x₂ + θ₁ >= 0.0\n",
      "\n",
      "Second-stage \n",
      "============== \n",
      "Subproblem 1 (p = 0.40):\n",
      "Max 24 y₁ + 28 y₂\n",
      "Subject to\n",
      " x₁ in Known(value = 46.666666666666664)\n",
      " x₂ in Known(value = 36.24999999999999)\n",
      " y₁ in RecourseDecisions\n",
      " y₂ in RecourseDecisions\n",
      " y₁ >= 0.0\n",
      " y₂ >= 0.0\n",
      " y₁ <= 500.0\n",
      " y₂ <= 100.0\n",
      " -60 x₁ + 6 y₁ + 10 y₂ <= 0.0\n",
      " -80 x₂ + 8 y₁ + 5 y₂ <= 0.0\n",
      "\n",
      "Subproblem 2 (p = 0.60):\n",
      "Max 28 y₁ + 32 y₂\n",
      "Subject to\n",
      " x₁ in Known(value = 46.666666666666664)\n",
      " x₂ in Known(value = 36.24999999999999)\n",
      " y₁ in RecourseDecisions\n",
      " y₂ in RecourseDecisions\n",
      " y₁ >= 0.0\n",
      " y₂ >= 0.0\n",
      " y₁ <= 300.0\n",
      " y₂ <= 300.0\n",
      " -60 x₁ + 6 y₁ + 10 y₂ <= 0.0\n",
      " -80 x₂ + 8 y₁ + 5 y₂ <= 0.0\n",
      "\n",
      "Solver name: L-shaped with disaggregate cuts"
     ]
    }
   ],
   "source": [
    "print(sp_lshaped)"
   ]
  },
  {
   "cell_type": "code",
   "execution_count": 12,
   "id": "4ff670f8-dec4-4ce7-9fac-0c57988477e0",
   "metadata": {},
   "outputs": [
    {
     "data": {
      "text/plain": [
       "2-element Vector{Float64}:\n",
       " 46.666666666666664\n",
       " 36.24999999999999"
      ]
     },
     "execution_count": 12,
     "metadata": {},
     "output_type": "execute_result"
    }
   ],
   "source": [
    "optimal_decision(sp_lshaped)"
   ]
  },
  {
   "cell_type": "code",
   "execution_count": null,
   "id": "b5aa57c2-93ec-45fa-ac24-ce4324216b20",
   "metadata": {},
   "outputs": [],
   "source": []
  }
 ],
 "metadata": {
  "kernelspec": {
   "display_name": "Julia 1.8.5",
   "language": "julia",
   "name": "julia-1.8"
  },
  "language_info": {
   "file_extension": ".jl",
   "mimetype": "application/julia",
   "name": "julia",
   "version": "1.8.5"
  }
 },
 "nbformat": 4,
 "nbformat_minor": 5
}
