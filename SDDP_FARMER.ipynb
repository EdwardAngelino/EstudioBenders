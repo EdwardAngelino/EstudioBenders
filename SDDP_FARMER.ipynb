{
 "cells": [
  {
   "cell_type": "code",
   "execution_count": 2,
   "id": "75a83d15-e33d-469a-99c9-6deab8e8995c",
   "metadata": {},
   "outputs": [
    {
     "data": {
      "text/plain": [
       "Dict{Symbol, Float64} with 3 entries:\n",
       "  :bad  => 0.8\n",
       "  :good => 1.2\n",
       "  :fair => 1.0"
      ]
     },
     "execution_count": 2,
     "metadata": {},
     "output_type": "execute_result"
    }
   ],
   "source": [
    "MAX_AREA = 500.0\n",
    "CROPS = [:wheat, :corn, :sugar_beet]\n",
    "PLANTING_COST = Dict(:wheat => 150.0, :corn => 230.0, :sugar_beet => 260.0)\n",
    "MIN_QUANTITIES = Dict(:wheat => 200.0, :corn => 240.0, :sugar_beet => 0.0)\n",
    "QUOTA_MAX = Dict(:wheat => Inf, :corn => Inf, :sugar_beet => 6_000.0)\n",
    "SELL_IN_QUOTA = Dict(:wheat => 170.0, :corn => 150.0, :sugar_beet => 36.0)\n",
    "SELL_NO_QUOTA = Dict(:wheat => 0.0, :corn => 0.0, :sugar_beet => 10.0)\n",
    "BUY_PRICE = Dict(:wheat => 238.0, :corn => 210.0, :sugar_beet => 1_000.0)\n",
    "MEAN_YIELD = Dict(:wheat => 2.5, :corn => 3.0, :sugar_beet => 20.0)\n",
    "YIELD_MULTIPLIER = Dict(:good => 1.2, :fair => 1.0, :bad => 0.8)"
   ]
  },
  {
   "cell_type": "code",
   "execution_count": 3,
   "id": "ed54ced8-a1d7-4d86-8dfc-b99876234266",
   "metadata": {},
   "outputs": [],
   "source": [
    "using SDDP, HiGHS, Statistics"
   ]
  },
  {
   "cell_type": "code",
   "execution_count": 4,
   "id": "2007daa4-965a-4f39-b900-11fc149e3b6d",
   "metadata": {},
   "outputs": [
    {
     "data": {
      "text/plain": [
       "add_state_variables (generic function with 1 method)"
      ]
     },
     "execution_count": 4,
     "metadata": {},
     "output_type": "execute_result"
    }
   ],
   "source": [
    "function add_state_variables(subproblem)\n",
    "    @variable(subproblem, area[c = CROPS] >= 0, SDDP.State, initial_value = 0)\n",
    "end"
   ]
  },
  {
   "cell_type": "code",
   "execution_count": 5,
   "id": "52da5989-c606-4cbd-9068-ef3bf0113a9f",
   "metadata": {},
   "outputs": [
    {
     "data": {
      "text/plain": [
       "create_first_stage_problem (generic function with 1 method)"
      ]
     },
     "execution_count": 5,
     "metadata": {},
     "output_type": "execute_result"
    }
   ],
   "source": [
    "function create_first_stage_problem(subproblem)\n",
    "    @constraint(\n",
    "        subproblem,\n",
    "        sum(subproblem[:area][c].out for c in CROPS) <= MAX_AREA\n",
    "    )\n",
    "    @stageobjective(\n",
    "        subproblem,\n",
    "        -sum(PLANTING_COST[c] * subproblem[:area][c].out for c in CROPS)\n",
    "    )\n",
    "end"
   ]
  },
  {
   "cell_type": "code",
   "execution_count": 6,
   "id": "d3688c12-f631-4c57-ac77-f689756d1300",
   "metadata": {},
   "outputs": [
    {
     "data": {
      "text/plain": [
       "second_stage_variables (generic function with 1 method)"
      ]
     },
     "execution_count": 6,
     "metadata": {},
     "output_type": "execute_result"
    }
   ],
   "source": [
    "function second_stage_variables(subproblem)\n",
    "    @variables(subproblem, begin\n",
    "        0 <= yield[c = CROPS]                          # tonnes/acre\n",
    "        0 <= buy[c = CROPS]                            # tonnes\n",
    "        0 <= sell_in_quota[c = CROPS] <= QUOTA_MAX[c]  # tonnes\n",
    "        0 <= sell_no_quota[c = CROPS]                  # tonnes\n",
    "    end)\n",
    "end"
   ]
  },
  {
   "cell_type": "code",
   "execution_count": 7,
   "id": "ef0be16d-24b7-4276-9032-9e360514e54f",
   "metadata": {},
   "outputs": [
    {
     "data": {
      "text/plain": [
       "second_stage_constraint_min_quantity (generic function with 1 method)"
      ]
     },
     "execution_count": 7,
     "metadata": {},
     "output_type": "execute_result"
    }
   ],
   "source": [
    "function second_stage_constraint_min_quantity(subproblem)\n",
    "    @constraint(\n",
    "        subproblem,\n",
    "        [c = CROPS],\n",
    "        subproblem[:yield][c] + subproblem[:buy][c] -\n",
    "        subproblem[:sell_in_quota][c] - subproblem[:sell_no_quota][c] >=\n",
    "        MIN_QUANTITIES[c]\n",
    "    )\n",
    "end"
   ]
  },
  {
   "cell_type": "code",
   "execution_count": 8,
   "id": "dd447184-24d3-4d1a-9442-8fa6e53547f5",
   "metadata": {},
   "outputs": [
    {
     "data": {
      "text/plain": [
       "second_stage_objective (generic function with 1 method)"
      ]
     },
     "execution_count": 8,
     "metadata": {},
     "output_type": "execute_result"
    }
   ],
   "source": [
    "function second_stage_objective(subproblem)\n",
    "    @stageobjective(\n",
    "        subproblem,\n",
    "        sum(\n",
    "            SELL_IN_QUOTA[c] * subproblem[:sell_in_quota][c] +\n",
    "            SELL_NO_QUOTA[c] * subproblem[:sell_no_quota][c] -\n",
    "            BUY_PRICE[c] * subproblem[:buy][c] for c in CROPS\n",
    "        )\n",
    "    )\n",
    "end"
   ]
  },
  {
   "cell_type": "code",
   "execution_count": 9,
   "id": "0a4ce3a2-29e5-4007-aa5e-176cbfab7c0d",
   "metadata": {},
   "outputs": [
    {
     "data": {
      "text/plain": [
       "second_stage_uncertainty (generic function with 1 method)"
      ]
     },
     "execution_count": 9,
     "metadata": {},
     "output_type": "execute_result"
    }
   ],
   "source": [
    "function second_stage_uncertainty(subproblem)\n",
    "    @constraint(\n",
    "        subproblem,\n",
    "        uncertainty[c = CROPS],\n",
    "        1.0 * subproblem[:area][c].in == subproblem[:yield][c]\n",
    "    )\n",
    "    SDDP.parameterize(subproblem, [:good, :fair, :bad]) do ω\n",
    "        for c in CROPS\n",
    "            JuMP.set_normalized_coefficient(\n",
    "                uncertainty[c],\n",
    "                subproblem[:area][c].in,\n",
    "                MEAN_YIELD[c] * YIELD_MULTIPLIER[ω],\n",
    "            )\n",
    "        end\n",
    "    end\n",
    "end"
   ]
  },
  {
   "cell_type": "code",
   "execution_count": 10,
   "id": "c0c0a707-cb64-4321-8574-4be79d59bc11",
   "metadata": {},
   "outputs": [
    {
     "data": {
      "text/plain": [
       "A policy graph with 2 nodes.\n",
       " Node indices: 1, 2\n"
      ]
     },
     "execution_count": 10,
     "metadata": {},
     "output_type": "execute_result"
    }
   ],
   "source": [
    "model = SDDP.LinearPolicyGraph(\n",
    "    stages = 2,\n",
    "    sense = :Max,\n",
    "    upper_bound = 500_000.0,\n",
    "    optimizer = HiGHS.Optimizer,\n",
    "    direct_mode = false,\n",
    ") do subproblem, stage\n",
    "    add_state_variables(subproblem)\n",
    "    if stage == 1\n",
    "        create_first_stage_problem(subproblem)\n",
    "    else\n",
    "        second_stage_variables(subproblem)\n",
    "        second_stage_constraint_min_quantity(subproblem)\n",
    "        second_stage_uncertainty(subproblem)\n",
    "        second_stage_objective(subproblem)\n",
    "    end\n",
    "end"
   ]
  },
  {
   "cell_type": "code",
   "execution_count": 11,
   "id": "0306de2d-d297-4691-8d8d-f1e4efe47a03",
   "metadata": {},
   "outputs": [
    {
     "name": "stdout",
     "output_type": "stream",
     "text": [
      "------------------------------------------------------------------------------\n",
      "          SDDP.jl (c) Oscar Dowson and SDDP.jl contributors, 2017-23\n",
      "\n",
      "Problem\n",
      "  Nodes           : 2\n",
      "  State variables : 3\n",
      "  Scenarios       : 3.00000e+00\n",
      "  Existing cuts   : false\n",
      "  Subproblem structure                      : (min, max)\n",
      "    Variables                               : (7, 19)\n",
      "    VariableRef in MOI.LessThan{Float64}    : (1, 2)\n",
      "    AffExpr in MOI.LessThan{Float64}        : (1, 1)\n",
      "    AffExpr in MOI.GreaterThan{Float64}     : (3, 3)\n",
      "    AffExpr in MOI.EqualTo{Float64}         : (3, 3)\n",
      "    VariableRef in MOI.GreaterThan{Float64} : (3, 16)\n",
      "Options\n",
      "  Solver          : serial mode\n",
      "  Risk measure    : SDDP.Expectation()\n",
      "  Sampling scheme : SDDP.InSampleMonteCarlo\n",
      "\n",
      "Numerical stability report\n",
      "  Non-zero Matrix range     [1e+00, 2e+01]\n",
      "  Non-zero Objective range  [1e+00, 1e+03]\n",
      "  Non-zero Bounds range     [6e+03, 5e+05]\n",
      "  Non-zero RHS range        [2e+02, 5e+02]\n",
      "No problems detected\n",
      "\n",
      " Iteration    Simulation       Bound         Time (s)    Proc. ID   # Solves\n",
      "        1   -9.800000e+04   4.922260e+05   5.448000e+00          1          6\n",
      "        2   -8.855160e+04   1.320000e+05   5.622000e+00          1         12\n",
      "        3    8.000000e+03   1.290000e+05   5.624000e+00          1         18\n",
      "        4    1.376000e+05   1.268139e+05   5.644000e+00          1         24\n",
      "        5    8.163785e+04   1.219636e+05   5.662000e+00          1         30\n",
      "        6    1.098545e+05   1.121210e+05   5.664000e+00          1         36\n",
      "        7    5.072028e+04   1.104195e+05   5.664000e+00          1         42\n",
      "        8    4.784940e+04   1.095042e+05   5.664000e+00          1         48\n",
      "        9    1.626819e+05   1.088611e+05   5.664000e+00          1         54\n",
      "       10    1.088611e+05   1.088021e+05   5.664000e+00          1         60\n",
      "       11    4.988974e+04   1.083900e+05   5.683000e+00          1         66\n",
      "       12    1.670000e+05   1.083900e+05   5.703000e+00          1         72\n",
      "       13    1.670000e+05   1.083900e+05   5.705000e+00          1         78\n",
      "       14    1.670000e+05   1.083900e+05   5.705000e+00          1         84\n",
      "       15    1.670000e+05   1.083900e+05   5.726000e+00          1         90\n",
      "       16    4.882000e+04   1.083900e+05   5.726000e+00          1         96\n",
      "       17    4.882000e+04   1.083900e+05   5.726000e+00          1        102\n",
      "       18    1.670000e+05   1.083900e+05   5.726000e+00          1        108\n",
      "       19    1.670000e+05   1.083900e+05   5.726000e+00          1        114\n",
      "       20    1.670000e+05   1.083900e+05   5.726000e+00          1        120\n",
      "\n",
      "Terminating training\n",
      "  Status         : iteration_limit\n",
      "  Total time (s) : 5.726000e+00\n",
      "  Total solves   : 120\n",
      "  Best bound     :  1.083900e+05\n",
      "  Simulation CI  :  9.185916e+04 ± 3.653993e+04\n",
      "------------------------------------------------------------------------------\n"
     ]
    }
   ],
   "source": [
    "SDDP.train(model; iteration_limit = 20)"
   ]
  },
  {
   "cell_type": "code",
   "execution_count": 21,
   "id": "12bf1ac4-3885-4bab-b6d9-b25d01108598",
   "metadata": {},
   "outputs": [
    {
     "data": {
      "text/plain": [
       "true"
      ]
     },
     "execution_count": 21,
     "metadata": {},
     "output_type": "execute_result"
    }
   ],
   "source": [
    "#@assert \n",
    "isapprox(SDDP.calculate_bound(model), 108_390.0, atol = 0.1)"
   ]
  },
  {
   "cell_type": "code",
   "execution_count": 18,
   "id": "b08f4120-2e73-4430-ad99-b3161b245b1f",
   "metadata": {},
   "outputs": [
    {
     "data": {
      "text/plain": [
       "1-dimensional DenseAxisArray{SDDP.State{Float64},1,...} with index sets:\n",
       "    Dimension 1, [:wheat, :corn, :sugar_beet]\n",
       "And data, a 3-element Vector{SDDP.State{Float64}}:\n",
       " SDDP.State{Float64}(169.9999999999995, 0.0)\n",
       " SDDP.State{Float64}(80.00000000000024, 0.0)\n",
       " SDDP.State{Float64}(250.00000000000028, 0.0)"
      ]
     },
     "execution_count": 18,
     "metadata": {},
     "output_type": "execute_result"
    }
   ],
   "source": [
    "sims = SDDP.simulate(model, 100, [:area])\n",
    "sims[100][2][:area]\n",
    "#mu = round(mean([s[1][:area]:wheat][1] for s in sims]), digits = 2)"
   ]
  },
  {
   "cell_type": "code",
   "execution_count": null,
   "id": "cdd4e010-6f78-4858-992b-01cf167e0192",
   "metadata": {},
   "outputs": [],
   "source": []
  }
 ],
 "metadata": {
  "kernelspec": {
   "display_name": "Julia 1.8.5",
   "language": "julia",
   "name": "julia-1.8"
  },
  "language_info": {
   "file_extension": ".jl",
   "mimetype": "application/julia",
   "name": "julia",
   "version": "1.8.5"
  }
 },
 "nbformat": 4,
 "nbformat_minor": 5
}
