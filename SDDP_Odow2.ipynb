{
 "cells": [
  {
   "cell_type": "code",
   "execution_count": 2,
   "id": "a076c866-739c-48e8-8ef6-b9485bc2b5f0",
   "metadata": {},
   "outputs": [],
   "source": [
    "using HiGHS\n",
    "using SDDP\n",
    "using Statistics"
   ]
  },
  {
   "cell_type": "code",
   "execution_count": 3,
   "id": "db784f3e-c880-4d99-9002-12a1fe7f2025",
   "metadata": {},
   "outputs": [
    {
     "data": {
      "text/plain": [
       "Root\n",
       " 0\n",
       "Nodes\n",
       " 1\n",
       " 2\n",
       " 3\n",
       "Arcs\n",
       " 0 => 1 w.p. 1.0\n",
       " 1 => 2 w.p. 1.0\n",
       " 2 => 3 w.p. 1.0\n",
       " 3 => 1 w.p. 0.95\n"
      ]
     },
     "execution_count": 3,
     "metadata": {},
     "output_type": "execute_result"
    }
   ],
   "source": [
    "graph=SDDP.UnicyclicGraph(0.95; num_nodes = 3)"
   ]
  },
  {
   "cell_type": "code",
   "execution_count": 4,
   "id": "e80290d6-0116-452c-be9c-387d68dc2973",
   "metadata": {},
   "outputs": [
    {
     "data": {
      "text/plain": [
       "A policy graph with 3 nodes.\n",
       " Node indices: 1, 2, 3\n"
      ]
     },
     "execution_count": 4,
     "metadata": {},
     "output_type": "execute_result"
    }
   ],
   "source": [
    "model = SDDP.PolicyGraph(\n",
    "    graph,\n",
    "    sense = :Min,\n",
    "    lower_bound = 0.0,\n",
    "    optimizer = HiGHS.Optimizer,\n",
    ") do sp, t\n",
    "    @variable(sp, 5 <= x <= 15, SDDP.State, initial_value = 10)\n",
    "    @variable(sp, g_t >= 0)\n",
    "    @variable(sp, g_h >= 0)\n",
    "    @variable(sp, s >= 0)\n",
    "    @constraint(sp, balance, x.out - x.in + g_h + s == 0)\n",
    "    @constraint(sp, demand, g_h + g_t == 0)\n",
    "    @stageobjective(sp, s + t * g_t)\n",
    "    SDDP.parameterize(sp, [[0, 7.5], [3, 5], [10, 2.5]]) do w\n",
    "        set_normalized_rhs(balance, w[1])\n",
    "        return set_normalized_rhs(demand, w[2])\n",
    "    end\n",
    "end"
   ]
  },
  {
   "cell_type": "code",
   "execution_count": 5,
   "id": "273710bd-80b6-4a64-bb8f-9293a07b1aaf",
   "metadata": {},
   "outputs": [
    {
     "name": "stdout",
     "output_type": "stream",
     "text": [
      "------------------------------------------------------------------------------\n",
      "          SDDP.jl (c) Oscar Dowson and SDDP.jl contributors, 2017-23\n",
      "\n",
      "Problem\n",
      "  Nodes           : 3\n",
      "  State variables : 1\n",
      "  Scenarios       : Inf\n",
      "  Existing cuts   : false\n",
      "  Subproblem structure                      : (min, max)\n",
      "    Variables                               : (6, 6)\n",
      "    VariableRef in MOI.LessThan{Float64}    : (1, 1)\n",
      "    VariableRef in MOI.GreaterThan{Float64} : (5, 5)\n",
      "    AffExpr in MOI.EqualTo{Float64}         : (2, 2)\n",
      "Options\n",
      "  Solver          : serial mode\n",
      "  Risk measure    : SDDP.Expectation()\n",
      "  Sampling scheme : SDDP.InSampleMonteCarlo\n",
      "\n",
      "Numerical stability report\n",
      "  Non-zero Matrix range     [1e+00, 1e+00]\n",
      "  Non-zero Objective range  [1e+00, 3e+00]\n",
      "  Non-zero Bounds range     [5e+00, 2e+01]\n",
      "  Non-zero RHS range        [2e+00, 1e+01]\n",
      "No problems detected\n",
      "\n",
      " Iteration    Simulation       Bound         Time (s)    Proc. ID   # Solves\n",
      "        1    4.350000e+01   4.437148e+00   5.719000e+00          1         39\n",
      "        2    2.755000e+02   9.323977e+01   5.820000e+00          1        342\n",
      "        3    4.846136e+01   1.087760e+02   5.827000e+00          1        405\n",
      "        4    2.845000e+02   1.440100e+02   5.877000e+00          1        696\n",
      "        5    2.277468e+02   1.723109e+02   5.927000e+00          1        987\n",
      "        6    1.308142e+02   1.766262e+02   5.959000e+00          1       1062\n",
      "        7    7.679946e+02   2.074378e+02   6.030000e+00          1       1821\n",
      "        8    3.030000e+02   2.128631e+02   6.055000e+00          1       2076\n",
      "        9    8.364695e+01   2.137094e+02   6.064000e+00          1       2151\n",
      "       10    5.311579e+02   2.203606e+02   6.122000e+00          1       2694\n",
      "       11    6.145870e+01   2.207997e+02   6.125000e+00          1       2721\n",
      "       12    3.277963e+01   2.213553e+02   6.132000e+00          1       2784\n",
      "       13    5.000000e-01   2.215959e+02   6.135000e+00          1       2799\n",
      "       14    1.671345e+01   2.220475e+02   6.139000e+00          1       2826\n",
      "       15    6.003881e+01   2.224195e+02   6.145000e+00          1       2889\n",
      "       16    1.445000e+02   2.240026e+02   6.160000e+00          1       3036\n",
      "       17    9.219453e+01   2.253953e+02   6.174000e+00          1       3171\n",
      "       18    2.161586e+02   2.261585e+02   6.198000e+00          1       3378\n",
      "       19    1.110315e+02   2.271529e+02   6.214000e+00          1       3525\n",
      "       20    1.950735e+02   2.278425e+02   6.236000e+00          1       3732\n",
      "       21    1.986725e+00   2.281527e+02   6.265000e+00          1       3747\n",
      "       22    2.176196e+01   2.281527e+02   6.270000e+00          1       3762\n",
      "       23    2.910590e+02   2.294105e+02   6.316000e+00          1       4089\n",
      "       24    7.475682e+01   2.299421e+02   6.324000e+00          1       4164\n",
      "       25    1.271227e+02   2.301914e+02   6.364000e+00          1       4299\n",
      "       26    1.319586e+02   2.302643e+02   6.380000e+00          1       4434\n",
      "       27    1.398050e+02   2.309332e+02   6.396000e+00          1       4581\n",
      "       28    5.416435e+01   2.309742e+02   6.401000e+00          1       4620\n",
      "       29    2.044751e+02   2.314387e+02   6.421000e+00          1       4803\n",
      "       30    1.594261e+02   2.316219e+02   6.432000e+00          1       4902\n",
      "       31    2.679659e+02   2.319289e+02   6.464000e+00          1       5205\n",
      "       32    2.267488e+02   2.326350e+02   6.491000e+00          1       5448\n",
      "       33    4.714270e+01   2.326350e+02   6.500000e+00          1       5523\n",
      "       34    6.571951e+01   2.328206e+02   6.510000e+00          1       5610\n",
      "       35    9.014083e+00   2.329820e+02   6.515000e+00          1       5649\n",
      "       36    1.163478e+01   2.329820e+02   6.517000e+00          1       5664\n",
      "       37    2.403610e+01   2.330455e+02   6.526000e+00          1       5739\n",
      "       38    1.460829e+02   2.331231e+02   6.558000e+00          1       5862\n",
      "       39    5.949332e+02   2.339921e+02   6.618000e+00          1       6405\n",
      "       40    7.194013e+02   2.341874e+02   6.738000e+00          1       7128\n",
      "       41    1.336036e+02   2.344754e+02   6.803000e+00          1       7299\n",
      "       42    3.507208e+01   2.345131e+02   6.810000e+00          1       7350\n",
      "       43    5.050000e+01   2.345356e+02   6.833000e+00          1       7401\n",
      "       44    4.914649e+02   2.348478e+02   6.880000e+00          1       7788\n",
      "       45    3.024502e+02   2.349389e+02   6.916000e+00          1       8043\n",
      "       46    4.510781e+02   2.352301e+02   6.982000e+00          1       8586\n",
      "       47    3.439533e+01   2.352600e+02   6.987000e+00          1       8613\n",
      "       48    6.338387e+01   2.352972e+02   7.010000e+00          1       8700\n",
      "       49    9.532103e+01   2.353583e+02   7.021000e+00          1       8787\n",
      "       50    1.634014e+02   2.353758e+02   7.037000e+00          1       8910\n",
      "       51    3.405565e+02   2.354897e+02   7.103000e+00          1       9153\n",
      "       52    3.818986e+02   2.356011e+02   7.158000e+00          1       9576\n",
      "       53    7.859155e+01   2.356299e+02   7.167000e+00          1       9651\n",
      "       54    8.242640e+01   2.356516e+02   7.180000e+00          1       9738\n",
      "       55    3.953985e+02   2.358165e+02   7.242000e+00          1      10197\n",
      "       56    1.379425e+02   2.358395e+02   7.294000e+00          1      10380\n",
      "       57    2.850000e+01   2.358465e+02   7.300000e+00          1      10419\n",
      "       58    1.648364e+02   2.358522e+02   7.320000e+00          1      10566\n",
      "       59    8.720148e+01   2.358885e+02   7.330000e+00          1      10641\n",
      "       60    1.125483e+03   2.360313e+02   7.520000e+00          1      11796\n",
      "       61    3.660686e+02   2.360964e+02   7.572000e+00          1      12111\n",
      "       62    2.667955e+02   2.361235e+02   7.656000e+00          1      12498\n",
      "       63    7.702460e+01   2.361364e+02   7.670000e+00          1      12585\n",
      "       64    1.012590e+01   2.361364e+02   7.674000e+00          1      12600\n",
      "       65    8.252421e+01   2.361364e+02   7.715000e+00          1      12675\n",
      "       66    1.705113e+02   2.361589e+02   7.737000e+00          1      12834\n",
      "       67    6.591835e+01   2.361613e+02   7.746000e+00          1      12885\n",
      "       68    1.921000e+02   2.361827e+02   7.771000e+00          1      13032\n",
      "       69    6.242814e+01   2.361827e+02   7.833000e+00          1      13155\n",
      "       70    4.446097e+02   2.362353e+02   7.922000e+00          1      13722\n",
      "       71    4.056197e+01   2.362353e+02   7.932000e+00          1      13761\n",
      "       72    5.103810e+01   2.362353e+02   7.937000e+00          1      13788\n",
      "       73    7.951953e+00   2.362413e+02   7.940000e+00          1      13803\n",
      "       74    2.645717e+02   2.362505e+02   7.989000e+00          1      14106\n",
      "       75    3.152378e+01   2.362506e+02   7.995000e+00          1      14133\n",
      "       76    3.749793e+02   2.362617e+02   8.069000e+00          1      14412\n",
      "       77    5.204200e+01   2.362629e+02   8.080000e+00          1      14463\n",
      "       78    1.002317e+01   2.362678e+02   8.106000e+00          1      14490\n",
      "       79    3.324446e+02   2.362794e+02   8.167000e+00          1      14805\n",
      "       80    1.505162e+01   2.362794e+02   8.173000e+00          1      14832\n",
      "       81    1.298811e+02   2.362882e+02   8.201000e+00          1      14979\n",
      "       82    2.415351e+02   2.362980e+02   8.249000e+00          1      15210\n",
      "       83    1.755060e+02   2.363064e+02   8.282000e+00          1      15381\n",
      "       84    7.642237e+02   2.363193e+02   8.414000e+00          1      16080\n",
      "       85    2.745409e+02   2.363308e+02   8.515000e+00          1      16407\n",
      "       86    1.180054e+02   2.363348e+02   8.537000e+00          1      16518\n",
      "       87    3.542988e+02   2.363366e+02   8.622000e+00          1      16833\n",
      "       88    4.848620e+01   2.363429e+02   8.634000e+00          1      16884\n",
      "       89    7.449076e+01   2.363467e+02   8.678000e+00          1      16971\n",
      "       90    5.062298e+02   2.363558e+02   8.784000e+00          1      17514\n",
      "       91    6.065953e+02   2.363609e+02   8.893000e+00          1      18045\n",
      "       92    3.550122e+02   2.363740e+02   9.014000e+00          1      18480\n",
      "       93    7.376176e+01   2.363749e+02   9.037000e+00          1      18579\n",
      "       94    2.850739e+01   2.363760e+02   9.041000e+00          1      18594\n",
      "       95    1.749691e+01   2.363760e+02   9.045000e+00          1      18609\n",
      "       96    1.899913e+02   2.363773e+02   9.102000e+00          1      18792\n",
      "       97    1.299376e+01   2.363786e+02   9.106000e+00          1      18807\n",
      "       98    2.105169e+02   2.363801e+02   9.167000e+00          1      19098\n",
      "       99    9.001952e+01   2.363831e+02   9.183000e+00          1      19161\n",
      "      100    1.415156e+02   2.363837e+02   9.213000e+00          1      19272\n",
      "\n",
      "Terminating training\n",
      "  Status         : iteration_limit\n",
      "  Total time (s) : 9.213000e+00\n",
      "  Total solves   : 19272\n",
      "  Best bound     :  2.363837e+02\n",
      "  Simulation CI  :  1.892137e+02 ± 3.911359e+01\n",
      "------------------------------------------------------------------------------\n"
     ]
    }
   ],
   "source": [
    "SDDP.train(model, iteration_limit = 100)"
   ]
  },
  {
   "cell_type": "code",
   "execution_count": 6,
   "id": "b56d6d61-cd83-4717-a760-ce78584365a1",
   "metadata": {},
   "outputs": [
    {
     "name": "stdout",
     "output_type": "stream",
     "text": [
      "On average, 2.18 units of thermal are used in the first stage.\n"
     ]
    }
   ],
   "source": [
    "sims = SDDP.simulate(model, 100, [:g_t])\n",
    "mu = round(mean([s[1][:g_t] for s in sims]), digits = 2)\n",
    "println(\"On average, $(mu) units of thermal are used in the first stage.\")"
   ]
  },
  {
   "cell_type": "code",
   "execution_count": 7,
   "id": "8d2aa2f9-7da8-4f21-ad82-bbf406128098",
   "metadata": {},
   "outputs": [
    {
     "name": "stdout",
     "output_type": "stream",
     "text": [
      "On average, 2.8 units of hydro are used in the first stage.\n"
     ]
    }
   ],
   "source": [
    "sims = SDDP.simulate(model, 100, [:g_h])\n",
    "mu = round(mean([s[1][:g_h] for s in sims]), digits = 2)\n",
    "println(\"On average, $(mu) units of hydro are used in the first stage.\")"
   ]
  },
  {
   "cell_type": "code",
   "execution_count": 8,
   "id": "f94bb837-bfb7-4012-ba5b-c444c22aa57a",
   "metadata": {},
   "outputs": [
    {
     "data": {
      "text/plain": [
       "(233.5281478126708, Dict(:x => -0.6591125751212569))"
      ]
     },
     "execution_count": 8,
     "metadata": {},
     "output_type": "execute_result"
    }
   ],
   "source": [
    "V = SDDP.ValueFunction(model[1])\n",
    "cost, price = SDDP.evaluate(V, x = 10)"
   ]
  },
  {
   "cell_type": "code",
   "execution_count": null,
   "id": "96bd4fc0-4842-497d-84ee-2ae87eefbffb",
   "metadata": {},
   "outputs": [],
   "source": []
  }
 ],
 "metadata": {
  "kernelspec": {
   "display_name": "Julia 1.8.5",
   "language": "julia",
   "name": "julia-1.8"
  },
  "language_info": {
   "file_extension": ".jl",
   "mimetype": "application/julia",
   "name": "julia",
   "version": "1.8.5"
  }
 },
 "nbformat": 4,
 "nbformat_minor": 5
}
