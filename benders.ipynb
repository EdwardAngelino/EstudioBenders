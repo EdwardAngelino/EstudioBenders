{
 "cells": [
  {
   "cell_type": "markdown",
   "id": "ae1eb08f",
   "metadata": {},
   "source": [
    "# Problema\n",
    "$$ min \\ c_1 ^T x + c_2 ^T y $$\n",
    "$$ Subject. to: \\ A_1 x + A_2 y \\le b $$\n",
    "$$ x \\ge 0 $$\n",
    "$$ y \\ge 0 $$\n",
    "$$ x \\in Z ^n $$"
   ]
  },
  {
   "cell_type": "markdown",
   "id": "3299fd41",
   "metadata": {},
   "source": [
    "# Main Problem\n",
    "$$ min \\ c_1 ^T x + \\theta $$\n",
    "$$ Subject. to: \\ x \\ge 0 $$\n",
    "$$ x \\in Z ^n $$\n",
    "$$ \\theta \\ge \\theta ^k - \\lambda A_1 ( x - x ^k) $$"
   ]
  },
  {
   "cell_type": "markdown",
   "id": "32197689",
   "metadata": {},
   "source": [
    "# Sub Problem\n",
    "$$ \\theta = min \\  c_2 ^T y $$\n",
    "$$ Subject. to: \\  A_2 y \\le b - A_1 x \\ [\\lambda]$$\n",
    "$$ y \\ge 0 $$"
   ]
  },
  {
   "cell_type": "code",
   "execution_count": 67,
   "id": "373c272e",
   "metadata": {},
   "outputs": [],
   "source": [
    "using JuMP, GLPK, Printf"
   ]
  },
  {
   "cell_type": "code",
   "execution_count": 68,
   "id": "1f580240",
   "metadata": {},
   "outputs": [
    {
     "data": {
      "text/plain": [
       "-1000"
      ]
     },
     "execution_count": 68,
     "metadata": {},
     "output_type": "execute_result"
    }
   ],
   "source": [
    "c1=[1,4]\n",
    "c2=[2,3]\n",
    "b2=[-2;-3]\n",
    "A1=[1 -3; -1 -3]\n",
    "A2=[1 -2; -1 -1]\n",
    "M=-1000"
   ]
  },
  {
   "cell_type": "markdown",
   "id": "c2c6771c",
   "metadata": {},
   "source": [
    "# Modeling de main problem"
   ]
  },
  {
   "cell_type": "code",
   "execution_count": 70,
   "id": "9c779ed5",
   "metadata": {},
   "outputs": [
    {
     "name": "stdout",
     "output_type": "stream",
     "text": [
      "Min x[1] + 4 x[2] + θ\n",
      "Subject to\n",
      " x[1] ≥ 0.0\n",
      " x[2] ≥ 0.0\n",
      " θ ≥ -1000.0\n",
      " x[1] integer\n",
      " x[2] integer\n"
     ]
    }
   ],
   "source": [
    "main = Model(GLPK.Optimizer)\n",
    "@variable(main,0 ≤ x[1:2], Int)\n",
    "@variable(main,-1000 ≤ θ)\n",
    "@objective(main, Min, c1' * x + θ)\n",
    "print(main)"
   ]
  },
  {
   "cell_type": "markdown",
   "id": "6c2aa31d",
   "metadata": {},
   "source": [
    "# Modeling subproblem"
   ]
  },
  {
   "cell_type": "code",
   "execution_count": 71,
   "id": "67dea16f",
   "metadata": {},
   "outputs": [
    {
     "data": {
      "text/plain": [
       "sub (generic function with 1 method)"
      ]
     },
     "execution_count": 71,
     "metadata": {},
     "output_type": "execute_result"
    }
   ],
   "source": [
    "function sub(x)\n",
    "    sub = Model(GLPK.Optimizer)\n",
    "    @variable(sub, 0 ≤ y[1:2])\n",
    "    @objective(sub, Min, c2' * y)\n",
    "    @constraint(sub, A1 * x + A2 * y .≤ b2)\n",
    "    optimize!(sub)\n",
    "    o = objective_value(sub)\n",
    "    y = value.(y)\n",
    "    all_con = all_constraints(sub, AffExpr, MOI.LessThan{Float64})\n",
    "    λ = dual.(all_con)\n",
    "    return Dict('o' => o , 'y' => y , 'λ' => λ)\n",
    "end    "
   ]
  },
  {
   "cell_type": "code",
   "execution_count": 72,
   "id": "684ada45",
   "metadata": {},
   "outputs": [
    {
     "data": {
      "text/plain": [
       "print_iteracion (generic function with 1 method)"
      ]
     },
     "execution_count": 72,
     "metadata": {},
     "output_type": "execute_result"
    }
   ],
   "source": [
    "function print_iteracion(k, args...)\n",
    "    f(x) = Printf.@sprintf(\"%12.4e\",x)\n",
    "    println(lpad(k,9), \" \", join(f.(args), \" \"))\n",
    "    return\n",
    "end"
   ]
  },
  {
   "cell_type": "markdown",
   "id": "999a5a3c",
   "metadata": {},
   "source": [
    "# Iteraciones\n",
    "- $c_1 x + c_2 y$ Objetive original problem\n",
    "- $c_1 x^k + \\theta$ lower bound (k iterativa)\n",
    "- $c_1 x^k + c_2 y^k$  Upper bound\n",
    "\n",
    "$$ \\theta \\ge \\theta ^k - \\lambda A_1 ( x - x ^k) $$"
   ]
  },
  {
   "cell_type": "code",
   "execution_count": 73,
   "id": "2c15f2c8",
   "metadata": {},
   "outputs": [
    {
     "name": "stdout",
     "output_type": "stream",
     "text": [
      "        k     upperbound     lowerbound      gap\n",
      "        1  -1.0000e+03   7.6667e+00   1.3143e+02\n",
      "        2  -4.9600e+02   1.2630e+03   1.3927e+00\n",
      "        3  -1.0800e+02   8.8800e+02   1.1216e+00\n",
      "        4   4.0000e+00   4.0000e+00   0.0000e+00\n",
      "*********** felicitaciones optimalidad encontrada **********************\n"
     ]
    },
    {
     "name": "stderr",
     "output_type": "stream",
     "text": [
      "┌ Info: Añadiendo este corte 2 x[1] + 8 x[2] + θ ≥ 7.666666666666666\n",
      "└ @ Main In[73]:14\n",
      "┌ Info: Añadiendo este corte -1.5 x[1] + 4.5 x[2] + θ ≥ 3.0\n",
      "└ @ Main In[73]:14\n",
      "┌ Info: Añadiendo este corte θ ≥ 0.0\n",
      "└ @ Main In[73]:14\n"
     ]
    }
   ],
   "source": [
    "println(\"        k     upperbound     lowerbound      gap\")\n",
    "for k in 1:10\n",
    "    optimize!(main)\n",
    "    lb = objective_value(main)\n",
    "    xᵏ = value.(x)\n",
    "    ub = c1' * xᵏ + c2' * sub(xᵏ)['y']\n",
    "    gap = (ub-lb)/ub\n",
    "    print_iteracion(k, lb, ub, gap)\n",
    "    if gap < 0.0000001\n",
    "        println(\"*********** felicitaciones optimalidad encontrada **********************\")\n",
    "        break\n",
    "    end\n",
    "    benderscut = @constraint(main, θ ≥ sub(xᵏ)['o'] - (sub(xᵏ)['λ'])' * A1 * (x .- xᵏ))\n",
    "    @info \"Añadiendo este corte $(benderscut)\"\n",
    "end"
   ]
  },
  {
   "cell_type": "code",
   "execution_count": 74,
   "id": "674f79f9",
   "metadata": {},
   "outputs": [
    {
     "name": "stdout",
     "output_type": "stream",
     "text": [
      "Min x[1] + 4 x[2] + θ\n",
      "Subject to\n",
      " 2 x[1] + 8 x[2] + θ ≥ 7.666666666666666\n",
      " -1.5 x[1] + 4.5 x[2] + θ ≥ 3.0\n",
      " θ ≥ 0.0\n",
      " x[1] ≥ 0.0\n",
      " x[2] ≥ 0.0\n",
      " θ ≥ -1000.0\n",
      " x[1] integer\n",
      " x[2] integer\n"
     ]
    }
   ],
   "source": [
    "print(main)"
   ]
  },
  {
   "cell_type": "code",
   "execution_count": 65,
   "id": "82710a5d",
   "metadata": {},
   "outputs": [
    {
     "data": {
      "text/plain": [
       "2-element Array{Float64,1}:\n",
       " 0.0\n",
       " 1.0"
      ]
     },
     "execution_count": 65,
     "metadata": {},
     "output_type": "execute_result"
    }
   ],
   "source": [
    "value.(x)"
   ]
  },
  {
   "cell_type": "code",
   "execution_count": null,
   "id": "ac83531e",
   "metadata": {},
   "outputs": [],
   "source": []
  }
 ],
 "metadata": {
  "kernelspec": {
   "display_name": "Julia 1.0.5",
   "language": "julia",
   "name": "julia-1.0"
  },
  "language_info": {
   "file_extension": ".jl",
   "mimetype": "application/julia",
   "name": "julia",
   "version": "1.0.5"
  }
 },
 "nbformat": 4,
 "nbformat_minor": 5
}
