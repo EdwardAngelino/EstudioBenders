{
 "cells": [
  {
   "cell_type": "code",
   "execution_count": 1,
   "id": "f5c145ef-2824-4ed8-9f10-89791b2c0ae8",
   "metadata": {},
   "outputs": [],
   "source": [
    "using HydroPowerModels\n",
    "using GLPK"
   ]
  },
  {
   "cell_type": "code",
   "execution_count": 2,
   "id": "72988643-306f-44fd-9319-1cd7032e5a59",
   "metadata": {},
   "outputs": [],
   "source": [
    "cd(\"C:/Users/eangelino/.julia/packages/HydroPowerModels/qPIGR/testcases\")\n",
    "data = HydroPowerModels.parse_folder(\"case3\"); #case3"
   ]
  },
  {
   "cell_type": "code",
   "execution_count": 3,
   "id": "f70622ed-47a0-4a8f-8dda-6f5528de36e6",
   "metadata": {},
   "outputs": [
    {
     "data": {
      "text/plain": [
       "Dict{String, Any} with 2 entries:\n",
       "  \"scenario_probabilities\" => [0.333333 0.333333 0.333333; 0.333333 0.333333 0.…\n",
       "  \"Hydrogenerators\"        => Any[Dict{String, Any}(\"spill_cost\"=>0, \"max_turn\"…"
      ]
     },
     "execution_count": 3,
     "metadata": {},
     "output_type": "execute_result"
    }
   ],
   "source": [
    "data[1][\"hydro\"]"
   ]
  },
  {
   "cell_type": "code",
   "execution_count": 4,
   "id": "67c43e79-a279-429f-9ec1-0ff7020ae0d4",
   "metadata": {
    "tags": []
   },
   "outputs": [
    {
     "data": {
      "text/plain": [
       "Dict{String, Any} with 14 entries:\n",
       "  \"cost_deficit\"   => 1000\n",
       "  \"bus\"            => Dict{String, Any}(\"1\"=>Dict{String, Any}(\"bus_type\"=>3, \"…\n",
       "  \"source_type\"    => \"matpower\"\n",
       "  \"name\"           => \"case3\"\n",
       "  \"dcline\"         => Dict{String, Any}()\n",
       "  \"source_version\" => \"2\"\n",
       "  \"gen\"            => Dict{String, Any}(\"1\"=>Dict{String, Any}(\"ncost\"=>2, \"qc1…\n",
       "  \"branch\"         => Dict{String, Any}(\"1\"=>Dict{String, Any}(\"br_r\"=>0.065, \"…\n",
       "  \"storage\"        => Dict{String, Any}()\n",
       "  \"switch\"         => Dict{String, Any}()\n",
       "  \"baseMVA\"        => 100\n",
       "  \"per_unit\"       => true\n",
       "  \"shunt\"          => Dict{String, Any}()\n",
       "  \"load\"           => Dict{String, Any}(\"1\"=>Dict{String, Any}(\"load_bus\"=>3, \"…"
      ]
     },
     "execution_count": 4,
     "metadata": {},
     "output_type": "execute_result"
    }
   ],
   "source": [
    "data[1][\"powersystem\"]"
   ]
  },
  {
   "cell_type": "code",
   "execution_count": 5,
   "id": "94ac7008-8e9a-4e1b-b37d-678244d69574",
   "metadata": {},
   "outputs": [],
   "source": [
    "params = create_param( stages = 12,\n",
    "                    model_constructor_grid  = DCPPowerModel,\n",
    "                    post_method             = PowerModels.build_opf,\n",
    "                    optimizer               = GLPK.Optimizer\n",
    ");"
   ]
  },
  {
   "cell_type": "code",
   "execution_count": 6,
   "id": "1d2e48fb-3461-4f06-b537-800178e14a80",
   "metadata": {
    "tags": []
   },
   "outputs": [
    {
     "name": "stdout",
     "output_type": "stream",
     "text": [
      "\u001b[32m[info | PowerModels]: Suppressing information and warning messages for the rest of this session.  Use the Memento package for more fine-grained control of logging.\u001b[39m\n",
      "------------------------------------------------------------------------------\n",
      "          SDDP.jl (c) Oscar Dowson and SDDP.jl contributors, 2017-23\n",
      "\n",
      "Problem\n",
      "  Nodes           : 12\n",
      "  State variables : 1\n",
      "  Scenarios       : 5.31441e+05\n",
      "  Existing cuts   : false\n",
      "  Subproblem structure                      : (min, max)\n",
      "    Variables                               : (18, 18)\n",
      "    VariableRef in MOI.LessThan{Float64}    : (8, 9)\n",
      "    AffExpr in MOI.LessThan{Float64}        : (3, 3)\n",
      "    AffExpr in MOI.GreaterThan{Float64}     : (3, 3)\n",
      "    AffExpr in MOI.EqualTo{Float64}         : (9, 9)\n",
      "    VariableRef in MOI.GreaterThan{Float64} : (13, 13)\n",
      "Options\n",
      "  Solver          : serial mode\n",
      "  Risk measure    : SDDP.Expectation()\n",
      "  Sampling scheme : SDDP.InSampleMonteCarlo\n",
      "\n",
      "Numerical stability report\n",
      "  Non-zero Matrix range     [4e-03, 1e+02]\n",
      "  Non-zero Objective range  [1e+00, 1e+05]\n",
      "  Non-zero Bounds range     [2e-01, 8e+01]\n",
      "  Non-zero RHS range        [1e+00, 1e+00]\n",
      "No problems detected\n",
      "\n",
      " Iteration    Simulation       Bound         Time (s)    Proc. ID   # Solves\n",
      "        1    1.200397e+04   6.015879e+03   4.452000e+00          1         48\n",
      "        2    1.205008e+04   8.403820e+03   4.623000e+00          1         96\n",
      "        3    1.741519e+04   9.120964e+03   4.653000e+00          1        144\n",
      "        4    1.050000e+04   1.127548e+04   4.676000e+00          1        192\n",
      "        5    1.005992e+04   1.128146e+04   4.696000e+00          1        240\n",
      "        6    1.060000e+04   1.128264e+04   4.696000e+00          1        288\n",
      "        7    9.802058e+03   1.128287e+04   4.696000e+00          1        336\n",
      "        8    1.000000e+04   1.128992e+04   4.696000e+00          1        384\n",
      "        9    1.360236e+04   1.129751e+04   4.704000e+00          1        432\n",
      "       10    1.280139e+04   1.132278e+04   4.704000e+00          1        480\n",
      "       11    1.101090e+04   1.132400e+04   4.704000e+00          1        528\n",
      "       12    1.110000e+04   1.132869e+04   4.737000e+00          1        576\n",
      "       13    1.075263e+04   1.132913e+04   4.737000e+00          1        624\n",
      "       14    1.394583e+04   1.133147e+04   4.757000e+00          1        672\n",
      "       15    1.050000e+04   1.133147e+04   4.777000e+00          1        720\n",
      "       16    1.030000e+04   1.133162e+04   4.818000e+00          1        768\n",
      "       17    1.073929e+04   1.133183e+04   4.818000e+00          1        816\n",
      "       18    1.400266e+04   1.133265e+04   4.826000e+00          1        864\n",
      "       19    1.190000e+04   1.133252e+04   4.826000e+00          1        912\n",
      "       20    1.230000e+04   1.133258e+04   4.826000e+00          1        960\n",
      "       21    1.320139e+04   1.133258e+04   4.859000e+00          1       1008\n",
      "       22    9.504291e+03   1.133321e+04   4.859000e+00          1       1056\n",
      "       23    1.020000e+04   1.133321e+04   4.940000e+00          1       1104\n",
      "       24    9.553322e+03   1.133322e+04   4.961000e+00          1       1152\n",
      "       25    8.854023e+03   1.133322e+04   4.961000e+00          1       1200\n",
      "       26    1.220000e+04   1.133325e+04   4.969000e+00          1       1248\n",
      "       27    1.410000e+04   1.133334e+04   4.969000e+00          1       1296\n",
      "       28    1.105402e+04   1.133334e+04   5.023000e+00          1       1344\n",
      "       29    1.250000e+04   1.133633e+04   5.031000e+00          1       1392\n",
      "       30    1.010665e+04   1.133639e+04   5.031000e+00          1       1440\n",
      "       31    8.552632e+03   1.133640e+04   5.031000e+00          1       1488\n",
      "       32    1.000665e+04   1.133640e+04   5.041000e+00          1       1536\n",
      "       33    8.400058e+03   1.133640e+04   5.043000e+00          1       1584\n",
      "       34    1.240000e+04   1.133644e+04   5.063000e+00          1       1632\n",
      "       35    1.410653e+04   1.133644e+04   5.084000e+00          1       1680\n",
      "       36    1.180000e+04   1.133644e+04   5.104000e+00          1       1728\n",
      "       37    1.100000e+04   1.133644e+04   5.124000e+00          1       1776\n",
      "       38    1.380236e+04   1.133695e+04   5.145000e+00          1       1824\n",
      "       39    9.254023e+03   1.133695e+04   5.145000e+00          1       1872\n",
      "       40    1.040000e+04   1.133699e+04   5.145000e+00          1       1920\n",
      "       41    1.060000e+04   1.133699e+04   5.165000e+00          1       1968\n",
      "       42    1.090000e+04   1.133699e+04   5.188000e+00          1       2016\n",
      "       43    1.270000e+04   1.133699e+04   5.206000e+00          1       2064\n",
      "       44    1.060139e+04   1.133699e+04   5.206000e+00          1       2112\n",
      "       45    1.160000e+04   1.133699e+04   5.214000e+00          1       2160\n",
      "       46    1.020000e+04   1.133699e+04   5.214000e+00          1       2208\n",
      "       47    1.290514e+04   1.133699e+04   5.214000e+00          1       2256\n",
      "       48    1.055402e+04   1.133699e+04   5.214000e+00          1       2304\n",
      "       49    1.070000e+04   1.133699e+04   5.247000e+00          1       2352\n",
      "       50    1.140000e+04   1.133699e+04   5.268000e+00          1       2400\n",
      "       51    1.245263e+04   1.133699e+04   5.289000e+00          1       2448\n",
      "       52    1.340000e+04   1.133712e+04   5.297000e+00          1       2496\n",
      "       53    1.030000e+04   1.133712e+04   5.330000e+00          1       2544\n",
      "       54    1.320514e+04   1.133712e+04   5.350000e+00          1       2592\n",
      "       55    9.647368e+03   1.133712e+04   5.358000e+00          1       2640\n",
      "       56    1.110000e+04   1.133713e+04   5.394000e+00          1       2688\n",
      "       57    1.360000e+04   1.133715e+04   5.397000e+00          1       2736\n",
      "       58    1.150000e+04   1.133715e+04   5.433000e+00          1       2784\n",
      "       59    1.115263e+04   1.133715e+04   5.433000e+00          1       2832\n",
      "       60    1.160000e+04   1.133715e+04   5.441000e+00          1       2880\n",
      "\n",
      "Terminating training\n",
      "  Status         : iteration_limit\n",
      "  Total time (s) : 5.441000e+00\n",
      "  Total solves   : 2880\n",
      "  Best bound     :  1.133715e+04\n",
      "  Simulation CI  :  1.144168e+04 ± 4.204550e+02\n",
      "------------------------------------------------------------------------------\n"
     ]
    }
   ],
   "source": [
    "m = hydrothermaloperation(data, params);\n",
    "\n",
    "HydroPowerModels.train(m;iteration_limit = 60);"
   ]
  },
  {
   "cell_type": "code",
   "execution_count": 44,
   "id": "d2d533c1-8ec5-478e-bfff-fb597450a8e4",
   "metadata": {},
   "outputs": [
    {
     "data": {
      "text/plain": [
       "Dict{Symbol, Any} with 5 entries:\n",
       "  :solve_time  => 0.19\n",
       "  :params      => Dict{Any, Any}(\"optimizer\"=>Optimizer, \"discount_factor\"=>1.0…\n",
       "  :machine     => Dict(:cpu=>\"Intel(R) Core(TM) i7-10850H CPU @ 2.70GHz\", :memo…\n",
       "  :data        => Dict{Any, Any}[Dict(\"powersystem\"=>Dict{String, Any}(\"cost_de…\n",
       "  :simulations => Vector{Dict{Symbol, Any}}[[Dict(:bellman_term=>10906.6, :nois…"
      ]
     },
     "execution_count": 44,
     "metadata": {},
     "output_type": "execute_result"
    }
   ],
   "source": [
    "results = HydroPowerModels.simulate(m, 100)"
   ]
  },
  {
   "cell_type": "code",
   "execution_count": 59,
   "id": "1308757c-5d61-4637-9a89-5835bcf365aa",
   "metadata": {},
   "outputs": [
    {
     "data": {
      "text/plain": [
       "Dict{Symbol, Any} with 9 entries:\n",
       "  :bellman_term    => 8929.63\n",
       "  :noise_term      => 1\n",
       "  :powersystem     => Dict{String, Any}(\"solve_time\"=>0.0, \"optimizer\"=>\"GLPK\",…\n",
       "  :node_index      => 2\n",
       "  :stage_objective => 1248.76\n",
       "  :objective_state => nothing\n",
       "  :reservoirs      => Dict{Symbol, Any}(:outflow=>[37.5621], :spill=>[0.0], :re…\n",
       "  :objective       => 10178.4\n",
       "  :belief          => Dict(2=>1.0)"
      ]
     },
     "execution_count": 59,
     "metadata": {},
     "output_type": "execute_result"
    }
   ],
   "source": [
    "simulations = results[:simulations]\n",
    "replication = 2\n",
    "stage = 2\n",
    "simulations[replication][stage]"
   ]
  },
  {
   "cell_type": "code",
   "execution_count": 64,
   "id": "b8f9b894-f974-4580-82a4-7734db5db60c",
   "metadata": {},
   "outputs": [
    {
     "data": {
      "text/plain": [
       "12-element Vector{Float64}:\n",
       " 1248.7578910801278\n",
       " 1248.7578910801276\n",
       " 1248.7578910787795\n",
       " 1248.7578910802708\n",
       " 1248.7578910801349\n",
       "  759.7887213028498\n",
       " 1048.7578910831883\n",
       "  648.7578910806195\n",
       "  894.7352643834665\n",
       "  755.412885585022\n",
       "  501.39025888839114\n",
       "  847.3676321917459"
      ]
     },
     "execution_count": 64,
     "metadata": {},
     "output_type": "execute_result"
    }
   ],
   "source": [
    "stage_objective = map(simulations[1]) do node\n",
    "    return node[:stage_objective]\n",
    "end"
   ]
  },
  {
   "cell_type": "code",
   "execution_count": 34,
   "id": "17e550da-a734-403e-bc69-f5c34efe839d",
   "metadata": {},
   "outputs": [
    {
     "data": {
      "text/plain": [
       "Dict{Symbol, Any} with 3 entries:\n",
       "  :outflow   => [35.0]\n",
       "  :spill     => [0.0]\n",
       "  :reservoir => SDDP.State{Float64}[State{Float64}(0.0, 0.0)]"
      ]
     },
     "execution_count": 34,
     "metadata": {},
     "output_type": "execute_result"
    }
   ],
   "source": [
    "results[:solve_time]\n",
    "results[:simulations][2][11][:powersystem][\"solution\"][\"branch\"][\"3\"]\n",
    "results[:simulations][100][12][:reservoirs]"
   ]
  },
  {
   "cell_type": "code",
   "execution_count": 37,
   "id": "00299423-230c-4cf2-9a71-45d2e08f2062",
   "metadata": {},
   "outputs": [],
   "source": [
    "#HydroPowerModels.plotscenarios(scen_gen, title  = \"Thermal Generation 1\",\n",
    "#                ylabel = \"MW\",\n",
    "#                xlabel = \"Stages\",\n",
    "#               bottom_margin = 10,\n",
    "#               right_margin = 10,\n",
    "#                left_margin = 10                \n",
    " #               )"
   ]
  },
  {
   "cell_type": "code",
   "execution_count": null,
   "id": "7f4708f3-ff05-4d92-9ade-724ca2dddc2e",
   "metadata": {},
   "outputs": [],
   "source": []
  }
 ],
 "metadata": {
  "kernelspec": {
   "display_name": "Julia 1.8.5",
   "language": "julia",
   "name": "julia-1.8"
  },
  "language_info": {
   "file_extension": ".jl",
   "mimetype": "application/julia",
   "name": "julia",
   "version": "1.8.5"
  }
 },
 "nbformat": 4,
 "nbformat_minor": 5
}
