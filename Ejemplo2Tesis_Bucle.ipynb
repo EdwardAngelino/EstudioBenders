{
 "cells": [
  {
   "cell_type": "markdown",
   "id": "01de0913-6e75-494f-a470-5e83e306d4e2",
   "metadata": {},
   "source": [
    "# DDP 3 stages (Bucle)"
   ]
  },
  {
   "cell_type": "markdown",
   "id": "ae1eb08f",
   "metadata": {},
   "source": [
    "# Problema\n",
    "$$ f(c_0)=min \\ [(150 x_1 + 3c_1 + 17520d_1)+ (150 x_2 +  3c_2 + 17520d_2)+(150 x_3 + 3c_3 + 17520d_3)]$$\n",
    "$$ Subject. to: \\ c_0  = 800 $$\n",
    "$$ c_0 + x_1 = c_1 $$\n",
    "$$ c_1 \\ge d_1 $$\n",
    "$$ d_1 = 810 $$\n",
    "$$ c_1 + x_2 = c_2 $$\n",
    "$$ c_2 \\ge d_2 $$\n",
    "$$ d_2 = 870 $$\n",
    "$$ c_2 + x_3 = c_3 $$\n",
    "$$ c_3 \\ge d_3 $$\n",
    "$$ d_3 = 930 $$\n",
    "$$ x_1,x_2,x_3 \\ge 0 $$\n"
   ]
  },
  {
   "cell_type": "markdown",
   "id": "7ce8f34f-05d5-4a96-8e5b-434049c1b645",
   "metadata": {},
   "source": [
    "# master Problem 1\n",
    "$$ f(c_0)=min \\ [(150 x_1 + 3c_1 + 17520d_1)+ \\alpha_1]$$\n",
    "$$ Subject. to: \\ c_0  = 800 $$\n",
    "$$ c_0 + x_1 = \\hat{c}_1 $$\n",
    "$$ \\hat{c}_1 \\ge d_1 $$\n",
    "$$ d_1 = 810 $$\n",
    "$$ \\alpha_1 \\ge \\alpha(\\hat{c}_1) -   ( c_1 - \\hat{c}_1) F_1^T\\lambda^\\hat{c_1}$$\n",
    "$$ x_1 \\ge 0$$"
   ]
  },
  {
   "cell_type": "markdown",
   "id": "3299fd41",
   "metadata": {},
   "source": [
    "# master Problem 2 = Subproblem 1\n",
    "$$ \\alpha(\\hat{c}_1)=min \\ [(150 x_2 + 3c_2 + 17520d_2)+ \\alpha_2]$$\n",
    "$$ Subject. to:  $$\n",
    "$$ \\hat{c}_1 + x_2 = \\hat{c}_2 $$\n",
    "$$ \\hat{c}_2 \\ge d_2 $$\n",
    "$$ d_2 = 870 $$\n",
    "$$ \\alpha_2 \\ge \\alpha(\\hat{c}_2) -   ( c_2 - \\hat{c}_2) F_2^T\\lambda^\\hat{c_2}$$\n",
    "$$ x_2 \\ge 0$$"
   ]
  },
  {
   "cell_type": "markdown",
   "id": "32197689",
   "metadata": {},
   "source": [
    "# master Problem 3 = Subproblem 2\n",
    "$$ \\alpha(\\hat{c}_2)=min \\ [(150 x_3 + 3c_3 + 17520d_3)+ \\alpha_3]$$\n",
    "$$ Subject. to:  $$\n",
    "$$ {c}_2 + x_3 = \\hat{c}_3 $$\n",
    "$$ \\hat{c}_3 \\ge d_3 $$\n",
    "$$ d_3 = 930 $$\n",
    "$$ \\alpha_3 \\ge 0$$\n",
    "$$ x_3 \\ge 0$$"
   ]
  },
  {
   "cell_type": "code",
   "execution_count": 2,
   "id": "373c272e",
   "metadata": {},
   "outputs": [],
   "source": [
    "using JuMP, GLPK, Printf"
   ]
  },
  {
   "cell_type": "code",
   "execution_count": 249,
   "id": "1f580240",
   "metadata": {},
   "outputs": [],
   "source": [
    "d=[810,870,930] \n",
    "c0=800;"
   ]
  },
  {
   "cell_type": "markdown",
   "id": "c2c6771c",
   "metadata": {},
   "source": [
    "# Modeling forward"
   ]
  },
  {
   "cell_type": "code",
   "execution_count": 302,
   "id": "97a23ede-b67a-4ad0-b577-925ecf0f8285",
   "metadata": {},
   "outputs": [
    {
     "data": {
      "text/plain": [
       "adelante (generic function with 1 method)"
      ]
     },
     "execution_count": 302,
     "metadata": {},
     "output_type": "execute_result"
    }
   ],
   "source": [
    "function adelante(c,d)\n",
    "    main = Model(GLPK.Optimizer)\n",
    "    @variable(main, 0 ≤ x1)\n",
    "    @variable(main, α1 ≥ 0)   #en forward α es cero solo se recoje las capacides c \n",
    "    @variable(main, c1 )\n",
    "\n",
    "    @constraint(main, c + x1 == c1)\n",
    "    @constraint(main,  c1 ≥ d)  \n",
    "\n",
    "    @objective(main, Min, (150 * x1 + 3 * c1 + 17520 * d)  + α1)\n",
    "    #print(main)\n",
    "\n",
    "    optimize!(main)\n",
    "\n",
    "    all_con = all_constraints(main, AffExpr, MOI.EqualTo{Float64})   #dual\n",
    "\n",
    "    return Dict( \"fc\"=> objective_value(main),    \"x\" => value.(x1),\n",
    "            \"c\" => value.(c1),    'λ' => dual.(all_con)[1], 'α' => value.(α1) )\n",
    "end"
   ]
  },
  {
   "cell_type": "code",
   "execution_count": 303,
   "id": "d9739409-e4e8-4e86-8afe-7eeda79d6899",
   "metadata": {},
   "outputs": [
    {
     "data": {
      "text/plain": [
       "Dict{Any, Dict{Any, Float64} where Any} with 3 entries:\n",
       "  2 => Dict{Any, Float64}('λ'=>150.0, \"c\"=>870.0, \"fc\"=>1.5254e7, \"x\"=>60.0, 'α…\n",
       "  3 => Dict{Any, Float64}('λ'=>150.0, \"c\"=>930.0, \"fc\"=>1.63054e7, \"x\"=>60.0, '…\n",
       "  1 => Dict{Any, Float64}('λ'=>150.0, \"c\"=>810.0, \"fc\"=>1.41951e7, \"x\"=>10.0, '…"
      ]
     },
     "execution_count": 303,
     "metadata": {},
     "output_type": "execute_result"
    }
   ],
   "source": [
    "# Bucle Forward\n",
    "cc = 800\n",
    "rsf= Dict{Any,Dict{Any, Float64} where Any}()\n",
    "i=1\n",
    "while i ≤ 3\n",
    "        push!(rsf, i=>adelante(cc, d[i]))\n",
    "        # datos para la siguiente etapa\n",
    "        cc = rsf[i][\"c\"]   #asignamos la capacidad obtenida par ala siguiente etapa\n",
    "        i=i+1   \n",
    "        \n",
    "end\n",
    "\n",
    "rsf"
   ]
  },
  {
   "cell_type": "code",
   "execution_count": 300,
   "id": "c00fd151-fdd2-4a8f-a1c4-a81b22814e69",
   "metadata": {},
   "outputs": [
    {
     "data": {
      "text/plain": [
       "4.575453e7"
      ]
     },
     "execution_count": 300,
     "metadata": {},
     "output_type": "execute_result"
    }
   ],
   "source": [
    "Zup=rsf[1][\"fc\"]+rsf[2][\"fc\"]+rsf[3][\"fc\"]   #all α =0"
   ]
  },
  {
   "cell_type": "markdown",
   "id": "6c2aa31d",
   "metadata": {},
   "source": [
    "# Backward"
   ]
  },
  {
   "cell_type": "code",
   "execution_count": 331,
   "id": "bd0e1d0c-8e4f-45d5-8bd8-c7be2a0f71ba",
   "metadata": {},
   "outputs": [
    {
     "data": {
      "text/plain": [
       "atras (generic function with 2 methods)"
      ]
     },
     "execution_count": 331,
     "metadata": {},
     "output_type": "execute_result"
    }
   ],
   "source": [
    "function atras(c0f,c1f, d, α, λ )\n",
    "    main = Model(GLPK.Optimizer)\n",
    "\n",
    "\n",
    "    @variable(main, 0 ≤ x1)\n",
    "    @variable(main, α1 ≥ 0)   #en forward α es cero solo se recoje las capacides c \n",
    "    @variable(main, c1 )\n",
    "\n",
    "    @constraint(main, c0f + x1 == c1)\n",
    "    @constraint(main,  c1 ≥ d)      \n",
    "    @constraint(main, α1 ≥ α - (c1 - c1f)*λ)\n",
    "    \n",
    "    @objective(main, Min, (150 * x1 + 3 * c1 + 17520 * d)  + α1)\n",
    "    #print(main)\n",
    "    optimize!(main)\n",
    "\n",
    "    all_con = all_constraints(main, AffExpr, MOI.EqualTo{Float64})   #dual\n",
    "\n",
    "    return Dict( \"fc\"=> objective_value(main),    \"x\" => value.(x1),\n",
    "            \"c\" => value.(c1), 'α' => value.(α1) ,    'λ' => dual.(all_con)[1])\n",
    "end"
   ]
  },
  {
   "cell_type": "code",
   "execution_count": 332,
   "id": "ac83531e",
   "metadata": {},
   "outputs": [],
   "source": [
    "# stage 3 es similar unicamente se tiene que obtener el corte de benders y añadir a la etapa anterior\n",
    "# α2 ≥ r3[\"fc2\"] - (c2 - r2[\"c2\"])*r3['λ']\n",
    "# fc2, λ  (del stage 3)\n",
    "# del stage 2 (Formwar) se recupera c2 (r2[\"c2\"])\n",
    "# se considera para todo que α3 (ultimo) =0\n"
   ]
  },
  {
   "cell_type": "code",
   "execution_count": 336,
   "id": "06fabf03-014f-492f-8c15-c03bdfc12859",
   "metadata": {},
   "outputs": [
    {
     "data": {
      "text/plain": [
       "Dict{Any, Dict{Any, Float64} where Any} with 3 entries:\n",
       "  2 => Dict{Any, Float64}('λ'=>150.0, \"c\"=>870.0, \"fc\"=>3.15594e7, \"x\"=>60.0, '…\n",
       "  3 => Dict{Any, Float64}('λ'=>150.0, \"c\"=>930.0, \"fc\"=>1.63054e7, \"x\"=>60.0, '…\n",
       "  1 => Dict{Any, Float64}('λ'=>150.0, \"c\"=>810.0, \"fc\"=>4.57545e7, \"x\"=>10.0, '…"
      ]
     },
     "execution_count": 336,
     "metadata": {},
     "output_type": "execute_result"
    }
   ],
   "source": [
    "rsb= Dict{Any,Dict{Any, Float64} where Any}()\n",
    "rsb[3]=rsf[3];\n",
    "rsb[2]= atras(rsf[1][\"c\"],rsf[2][\"c\"],d[2], rsb[3][\"fc\"], rsb[3]['λ'] );\n",
    "rsb[1]= atras( c0,        rsf[1][\"c\"],d[1], rsb[2][\"fc\"], rsb[2]['λ'] );\n",
    "rsb"
   ]
  },
  {
   "cell_type": "code",
   "execution_count": 342,
   "id": "fa6b5c4b-dbf7-497d-9ac4-f08459f524a4",
   "metadata": {},
   "outputs": [
    {
     "data": {
      "text/plain": [
       "4.575453e7"
      ]
     },
     "execution_count": 342,
     "metadata": {},
     "output_type": "execute_result"
    }
   ],
   "source": [
    "Zlow=(150*rsb[1][\"x\"]+3*rsb[1][\"c\"]+17520*d[1]+rsb[1]['α'])"
   ]
  },
  {
   "cell_type": "code",
   "execution_count": 343,
   "id": "41de2bdf-2b64-4d3a-94af-f5ded254f675",
   "metadata": {},
   "outputs": [
    {
     "data": {
      "text/plain": [
       "0.0"
      ]
     },
     "execution_count": 343,
     "metadata": {},
     "output_type": "execute_result"
    }
   ],
   "source": [
    "ϵ = Zup-Zlow  #criterio convergencia simple"
   ]
  },
  {
   "cell_type": "code",
   "execution_count": null,
   "id": "9ceb4858-c7fb-4a23-8515-070c0828cf78",
   "metadata": {},
   "outputs": [],
   "source": []
  }
 ],
 "metadata": {
  "kernelspec": {
   "display_name": "Julia 1.8.5",
   "language": "julia",
   "name": "julia-1.8"
  },
  "language_info": {
   "file_extension": ".jl",
   "mimetype": "application/julia",
   "name": "julia",
   "version": "1.8.5"
  }
 },
 "nbformat": 4,
 "nbformat_minor": 5
}
