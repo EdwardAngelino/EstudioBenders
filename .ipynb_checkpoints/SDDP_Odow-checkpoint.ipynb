{
 "cells": [
  {
   "cell_type": "code",
   "execution_count": 2,
   "id": "c956ea3c-7d8e-4ae9-841d-cde785be68ca",
   "metadata": {},
   "outputs": [],
   "source": [
    "using HiGHS\n",
    "using SDDP\n",
    "using Statistics"
   ]
  },
  {
   "cell_type": "code",
   "execution_count": 3,
   "id": "e2bc4d2a-04e8-4142-84f9-bbea932ea6eb",
   "metadata": {},
   "outputs": [
    {
     "data": {
      "text/plain": [
       "Root\n",
       " 0\n",
       "Nodes\n",
       " 1\n",
       " 2\n",
       " 3\n",
       "Arcs\n",
       " 0 => 1 w.p. 1.0\n",
       " 1 => 2 w.p. 1.0\n",
       " 2 => 3 w.p. 1.0\n",
       " 3 => 1 w.p. 0.95\n"
      ]
     },
     "execution_count": 3,
     "metadata": {},
     "output_type": "execute_result"
    }
   ],
   "source": [
    "#graph = SDDP.UnicyclicGraph(0.95; num_nodes = 3)\n",
    "graph = SDDP.LinearGraph(3)\n",
    "SDDP.add_edge(graph, 3 => 1, 0.95)\n",
    "graph"
   ]
  },
  {
   "cell_type": "code",
   "execution_count": 4,
   "id": "a305017b-2eea-48c2-8f5f-35d3534ab2d4",
   "metadata": {},
   "outputs": [
    {
     "data": {
      "text/plain": [
       "A policy graph with 3 nodes.\n",
       " Node indices: 1, 2, 3\n"
      ]
     },
     "execution_count": 4,
     "metadata": {},
     "output_type": "execute_result"
    }
   ],
   "source": [
    "model = SDDP.PolicyGraph(\n",
    "    graph,\n",
    "    sense = :Min,\n",
    "    lower_bound = 0.0,\n",
    "    optimizer = HiGHS.Optimizer,\n",
    ") do sp, t\n",
    "    @variable(sp, 5 <= x <= 15, SDDP.State, initial_value = 10)\n",
    "    @variable(sp, g_t >= 0)\n",
    "    @variable(sp, g_h >= 0)\n",
    "    @variable(sp, s >= 0)\n",
    "    @constraint(sp, balance, x.out - x.in + g_h + s == 0)\n",
    "    @constraint(sp, demand, g_h + g_t == 0)\n",
    "    @stageobjective(sp, s + t * g_t)\n",
    "    SDDP.parameterize(sp, [[0, 7.5], [3, 5], [10, 2.5]]) do w\n",
    "        set_normalized_rhs(balance, w[1])\n",
    "        return set_normalized_rhs(demand, w[2])\n",
    "    end\n",
    "end"
   ]
  },
  {
   "cell_type": "code",
   "execution_count": 5,
   "id": "3363d3e9-3229-4312-882d-59a2b776c212",
   "metadata": {},
   "outputs": [
    {
     "name": "stdout",
     "output_type": "stream",
     "text": [
      "------------------------------------------------------------------------------\n",
      "          SDDP.jl (c) Oscar Dowson and SDDP.jl contributors, 2017-23\n",
      "\n",
      "Problem\n",
      "  Nodes           : 3\n",
      "  State variables : 1\n",
      "  Scenarios       : Inf\n",
      "  Existing cuts   : false\n",
      "  Subproblem structure                      : (min, max)\n",
      "    Variables                               : (6, 6)\n",
      "    VariableRef in MOI.LessThan{Float64}    : (1, 1)\n",
      "    VariableRef in MOI.GreaterThan{Float64} : (5, 5)\n",
      "    AffExpr in MOI.EqualTo{Float64}         : (2, 2)\n",
      "Options\n",
      "  Solver          : serial mode\n",
      "  Risk measure    : SDDP.Expectation()\n",
      "  Sampling scheme : SDDP.InSampleMonteCarlo\n",
      "\n",
      "Numerical stability report\n",
      "  Non-zero Matrix range     [1e+00, 1e+00]\n",
      "  Non-zero Objective range  [1e+00, 3e+00]\n",
      "  Non-zero Bounds range     [5e+00, 2e+01]\n",
      "  Non-zero RHS range        [2e+00, 1e+01]\n",
      "No problems detected\n",
      "\n",
      " Iteration    Simulation       Bound         Time (s)    Proc. ID   # Solves\n",
      "        1    1.315000e+02   4.235694e+01   6.079000e+00          1        147\n",
      "        2    6.350000e+02   1.282824e+02   6.188000e+00          1        618\n",
      "        3    1.864052e+02   1.505785e+02   6.207000e+00          1        837\n",
      "        4    2.187959e+02   1.667353e+02   6.244000e+00          1       1080\n",
      "        5    1.120000e+02   1.774674e+02   6.260000e+00          1       1239\n",
      "        6    1.710798e+02   1.820453e+02   6.273000e+00          1       1362\n",
      "        7    7.200000e+01   1.853384e+02   6.293000e+00          1       1437\n",
      "        8    5.000000e-01   1.867824e+02   6.295000e+00          1       1452\n",
      "        9    2.635000e+02   1.961669e+02   6.318000e+00          1       1695\n",
      "       10    4.883495e+02   2.094633e+02   6.367000e+00          1       2178\n",
      "       11    1.147778e+02   2.109385e+02   6.383000e+00          1       2301\n",
      "       12    1.318244e+02   2.130867e+02   6.393000e+00          1       2400\n",
      "       13    3.113570e+02   2.150768e+02   6.424000e+00          1       2679\n",
      "       14    1.796806e+02   2.175013e+02   6.444000e+00          1       2874\n",
      "       15    6.167881e+02   2.217041e+02   6.509000e+00          1       3465\n",
      "       16    5.335082e+02   2.260215e+02   6.574000e+00          1       4044\n",
      "       17    5.786650e+01   2.261947e+02   6.581000e+00          1       4083\n",
      "       18    3.785455e+02   2.283542e+02   6.625000e+00          1       4470\n",
      "       19    4.093033e+02   2.289768e+02   6.690000e+00          1       4953\n",
      "       20    6.271831e+01   2.294285e+02   6.699000e+00          1       5016\n",
      "       21    3.747167e+01   2.294800e+02   6.707000e+00          1       5067\n",
      "       22    8.651863e+01   2.297783e+02   6.720000e+00          1       5154\n",
      "       23    1.224133e+03   2.321686e+02   6.857000e+00          1       6249\n",
      "       24    3.050000e+01   2.322024e+02   6.864000e+00          1       6276\n",
      "       25    7.185385e+01   2.322431e+02   6.876000e+00          1       6351\n",
      "       26    1.815391e+02   2.326675e+02   6.900000e+00          1       6534\n",
      "       27    9.741257e+02   2.341734e+02   7.054000e+00          1       7485\n",
      "       28    8.511549e+01   2.342760e+02   7.080000e+00          1       7632\n",
      "       29    2.312250e+01   2.342760e+02   7.086000e+00          1       7671\n",
      "       30    1.592701e+02   2.344693e+02   7.109000e+00          1       7830\n",
      "       31    1.137039e+01   2.344693e+02   7.112000e+00          1       7845\n",
      "       32    8.524139e+02   2.349081e+02   7.234000e+00          1       8568\n",
      "       33    1.146617e+02   2.350207e+02   7.258000e+00          1       8715\n",
      "       34    8.434530e+02   2.353394e+02   7.373000e+00          1       9510\n",
      "       35    1.059681e+02   2.354009e+02   7.402000e+00          1       9669\n",
      "       36    6.500784e+01   2.354009e+02   7.417000e+00          1       9744\n",
      "       37    1.775999e+02   2.354862e+02   7.447000e+00          1       9927\n",
      "       38    1.160196e+02   2.355108e+02   7.472000e+00          1      10086\n",
      "       39    2.158667e+02   2.355962e+02   7.491000e+00          1      10209\n",
      "       40    5.495881e+01   2.355962e+02   7.505000e+00          1      10284\n",
      "       41    5.871949e+02   2.357583e+02   7.598000e+00          1      10851\n",
      "       42    1.288338e+02   2.357872e+02   7.618000e+00          1      10950\n",
      "       43    1.246913e+02   2.358291e+02   7.653000e+00          1      11169\n",
      "       44    5.743100e+01   2.358329e+02   7.665000e+00          1      11244\n",
      "       45    7.977869e+01   2.358754e+02   7.687000e+00          1      11367\n",
      "       46    1.402292e+02   2.358965e+02   7.715000e+00          1      11526\n",
      "       47    2.425577e+02   2.359266e+02   7.765000e+00          1      11769\n",
      "       48    1.585654e+02   2.359272e+02   7.783000e+00          1      11868\n",
      "       49    5.367169e+01   2.359603e+02   7.798000e+00          1      11943\n",
      "       50    7.025781e+01   2.359664e+02   7.818000e+00          1      12030\n",
      "       51    5.754815e+02   2.360413e+02   7.907000e+00          1      12525\n",
      "       52    1.696420e+02   2.360552e+02   7.940000e+00          1      12720\n",
      "       53    3.366575e+02   2.361172e+02   8.004000e+00          1      13071\n",
      "       54    5.923799e+02   2.361553e+02   8.129000e+00          1      13674\n",
      "       55    4.837938e+02   2.362215e+02   8.281000e+00          1      14337\n",
      "       56    1.255179e+02   2.362215e+02   8.296000e+00          1      14400\n",
      "       57    8.681369e+02   2.362639e+02   8.514000e+00          1      15351\n",
      "       58    1.819226e+02   2.362752e+02   8.572000e+00          1      15594\n",
      "       59    9.351670e+01   2.362784e+02   8.594000e+00          1      15681\n",
      "       60    7.244940e+01   2.362888e+02   8.624000e+00          1      15804\n",
      "       61    1.203924e+02   2.362921e+02   8.658000e+00          1      15939\n",
      "       62    1.165000e+02   2.362976e+02   8.716000e+00          1      16098\n",
      "       63    5.614622e+02   2.363095e+02   8.865000e+00          1      16665\n",
      "       64    1.805231e+02   2.363202e+02   8.907000e+00          1      16836\n",
      "       65    1.665226e+02   2.363257e+02   8.952000e+00          1      17031\n",
      "       66    7.952364e+01   2.363257e+02   8.969000e+00          1      17094\n",
      "       67    3.735225e+02   2.363343e+02   9.063000e+00          1      17481\n",
      "       68    7.852564e+01   2.363349e+02   9.089000e+00          1      17592\n",
      "       69    1.750136e+02   2.363405e+02   9.125000e+00          1      17727\n",
      "       70    1.495372e+02   2.363439e+02   9.152000e+00          1      17838\n",
      "       71    5.404747e+01   2.363456e+02   9.172000e+00          1      17913\n",
      "       72    6.155495e+01   2.363494e+02   9.192000e+00          1      17988\n",
      "       73    3.100304e+02   2.363538e+02   9.301000e+00          1      18399\n",
      "       74    1.520589e+02   2.363592e+02   9.350000e+00          1      18558\n",
      "       75    2.319663e+02   2.363611e+02   9.439000e+00          1      18789\n",
      "       76    3.189894e+02   2.363675e+02   9.525000e+00          1      19092\n",
      "       77    2.451700e+01   2.363675e+02   9.529000e+00          1      19107\n",
      "       78    1.704980e+02   2.363719e+02   9.583000e+00          1      19290\n",
      "       79    3.948227e+01   2.363724e+02   9.603000e+00          1      19353\n",
      "       80    2.885350e+02   2.363794e+02   9.700000e+00          1      19656\n",
      "       81    2.145816e+02   2.363810e+02   9.757000e+00          1      19827\n",
      "       82    1.209734e+02   2.363840e+02   9.798000e+00          1      19950\n",
      "       83    1.746985e+01   2.363840e+02   9.804000e+00          1      19965\n",
      "       84    1.400354e+01   2.363848e+02   9.815000e+00          1      19992\n",
      "       85    9.000245e+01   2.363873e+02   9.857000e+00          1      20115\n",
      "       86    8.753051e+01   2.363894e+02   9.914000e+00          1      20262\n",
      "       87    1.255121e+02   2.363913e+02   9.949000e+00          1      20373\n",
      "       88    3.489598e+02   2.363940e+02   1.007700e+01          1      20760\n",
      "       89    6.350000e+01   2.363964e+02   1.009100e+01          1      20799\n",
      "       90    6.251004e+01   2.363967e+02   1.013900e+01          1      20874\n",
      "       91    6.848683e+01   2.363983e+02   1.016400e+01          1      20949\n",
      "       92    1.410027e+02   2.363994e+02   1.019800e+01          1      21060\n",
      "       93    3.165058e+02   2.364045e+02   1.032100e+01          1      21423\n",
      "       94    1.459819e+02   2.364058e+02   1.038900e+01          1      21630\n",
      "       95    1.490118e+02   2.364091e+02   1.046300e+01          1      21861\n",
      "       96    2.300000e+01   2.364096e+02   1.047800e+01          1      21900\n",
      "       97    2.919590e+02   2.364109e+02   1.059500e+01          1      22287\n",
      "       98    2.310124e+02   2.364124e+02   1.066800e+01          1      22506\n",
      "       99    9.500090e+00   2.364125e+02   1.068100e+01          1      22533\n",
      "      100    3.425083e+02   2.364146e+02   1.081200e+01          1      22872\n",
      "\n",
      "Terminating training\n",
      "  Status         : iteration_limit\n",
      "  Total time (s) : 1.081200e+01\n",
      "  Total solves   : 22872\n",
      "  Best bound     :  2.364146e+02\n",
      "  Simulation CI  :  2.216639e+02 ± 4.492893e+01\n",
      "------------------------------------------------------------------------------\n"
     ]
    }
   ],
   "source": [
    "SDDP.train(model, iteration_limit = 100)"
   ]
  },
  {
   "cell_type": "code",
   "execution_count": 6,
   "id": "a6fe5008-5ce8-4022-ba1c-835a89056337",
   "metadata": {},
   "outputs": [
    {
     "name": "stdout",
     "output_type": "stream",
     "text": [
      "On average, 1.97 units of thermal are used in the first stage.\n"
     ]
    },
    {
     "data": {
      "text/plain": [
       "(233.53003196492762, Dict(:x => -0.6601807846355714))"
      ]
     },
     "execution_count": 6,
     "metadata": {},
     "output_type": "execute_result"
    }
   ],
   "source": [
    "sims = SDDP.simulate(model, 100, [:g_t]);\n",
    "mu = round(mean([s[1][:g_t] for s in sims]), digits = 2)\n",
    "println(\"On average, $(mu) units of thermal are used in the first stage.\")\n",
    "V = SDDP.ValueFunction(model[1])\n",
    "cost, price = SDDP.evaluate(V, x = 10)"
   ]
  },
  {
   "cell_type": "code",
   "execution_count": 7,
   "id": "29da5fa5-6252-47f0-8498-6b7409cd64d9",
   "metadata": {},
   "outputs": [
    {
     "data": {
      "text/plain": [
       "Dict{Symbol, Any} with 7 entries:\n",
       "  :g_t             => 6.50295\n",
       "  :bellman_term    => 231.782\n",
       "  :noise_term      => [0.0, 7.5]\n",
       "  :node_index      => 2\n",
       "  :stage_objective => 13.0059\n",
       "  :objective_state => nothing\n",
       "  :belief          => Dict(2=>1.0)"
      ]
     },
     "execution_count": 7,
     "metadata": {},
     "output_type": "execute_result"
    }
   ],
   "source": [
    "replication = 1\n",
    "stage = 2\n",
    "sims[replication][stage]"
   ]
  },
  {
   "cell_type": "code",
   "execution_count": 16,
   "id": "75ac7994-90d2-4ab6-a9a1-347c263b28a7",
   "metadata": {},
   "outputs": [
    {
     "data": {
      "text/plain": [
       "81-element Vector{Float64}:\n",
       "  0.0\n",
       " 13.00589597884722\n",
       " 16.491156031729126\n",
       "  7.4999999999999805\n",
       "  0.0\n",
       " -7.460698725481052e-14\n",
       "  0.0\n",
       "  0.0\n",
       "  6.000000000000107\n",
       "  7.500000000000017\n",
       " 15.000000000000096\n",
       "  5.999999999999968\n",
       "  4.5010612583461596\n",
       "  ⋮\n",
       "  7.002947989423717\n",
       "  0.0\n",
       " 15.00000000000017\n",
       "  7.499999999999992\n",
       " 14.999999999999902\n",
       "  0.0\n",
       "  2.501061258346426\n",
       "  0.0010612583465243193\n",
       "  7.5\n",
       "  0.0010612583466373948\n",
       "  0.0010612583466396409\n",
       "  0.0"
      ]
     },
     "execution_count": 16,
     "metadata": {},
     "output_type": "execute_result"
    }
   ],
   "source": [
    "outgoing_volume = map(sims[1]) do node\n",
    "    return node[:stage_objective]\n",
    "end"
   ]
  },
  {
   "cell_type": "code",
   "execution_count": null,
   "id": "e3a1dddc-29ff-410e-824f-bf7dbd371e47",
   "metadata": {},
   "outputs": [],
   "source": []
  }
 ],
 "metadata": {
  "kernelspec": {
   "display_name": "Julia 1.8.5",
   "language": "julia",
   "name": "julia-1.8"
  },
  "language_info": {
   "file_extension": ".jl",
   "mimetype": "application/julia",
   "name": "julia",
   "version": "1.8.5"
  }
 },
 "nbformat": 4,
 "nbformat_minor": 5
}
