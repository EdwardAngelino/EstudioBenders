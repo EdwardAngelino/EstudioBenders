{
 "cells": [
  {
   "cell_type": "markdown",
   "id": "33d4c191-9cb2-4b87-9fb5-97245ea19f7d",
   "metadata": {},
   "source": [
    "The following defines the well-known \"Farmer problem\", first outlined in Introduction to Stochastic Programming, in StochasticPrograms. The problem revolves around a farmer who needs to decide how to partition his land to sow three different crops. The uncertainty comes from not knowing what the future yield of each crop will be. Recourse decisions involve purchasing/selling crops at the market.\n",
    "https://github.com/martinbiel/StochasticPrograms.jl/blob/master/docs/src/manual/examples.md\n",
    "\n",
    "https://martinbiel.github.io/StochasticPrograms.jl/stable"
   ]
  },
  {
   "cell_type": "code",
   "execution_count": 1,
   "id": "287ff50f-6255-48b2-bbc2-65dfcf45aad4",
   "metadata": {},
   "outputs": [],
   "source": [
    "using StochasticPrograms\n",
    "using GLPK"
   ]
  },
  {
   "cell_type": "code",
   "execution_count": 2,
   "id": "e8503a64-eef9-4e8c-9405-b327ba2bf750",
   "metadata": {},
   "outputs": [
    {
     "data": {
      "text/plain": [
       "Two-Stage Stochastic Model\n",
       "\n",
       "minimize f₀(x) + 𝔼[f(x,ξ)]\n",
       "  x∈𝒳\n",
       "\n",
       "where\n",
       "\n",
       "f(x,ξ) = min  f(y; x, ξ)\n",
       "              y ∈ 𝒴 (x, ξ)\n"
      ]
     },
     "execution_count": 2,
     "metadata": {},
     "output_type": "execute_result"
    }
   ],
   "source": [
    "Crops = [:wheat, :corn, :beets]\n",
    "@stochastic_model farmer_model begin\n",
    "    @stage 1 begin\n",
    "        @parameters begin\n",
    "            Crops = Crops\n",
    "            Cost = Dict(:wheat=>150, :corn=>230, :beets=>260)\n",
    "            Budget = 500\n",
    "        end\n",
    "        @decision(farmer_model, x[c in Crops] >= 0)\n",
    "        @objective(farmer_model, Min, sum(Cost[c]*x[c] for c in Crops))\n",
    "        @constraint(farmer_model, sum(x[c] for c in Crops) <= Budget)\n",
    "    end\n",
    "    @stage 2 begin\n",
    "        @parameters begin\n",
    "            Crops = Crops\n",
    "            Required = Dict(:wheat=>200, :corn=>240, :beets=>0)\n",
    "            PurchasePrice = Dict(:wheat=>238, :corn=>210)\n",
    "            SellPrice = Dict(:wheat=>170, :corn=>150, :beets=>36, :extra_beets=>10)\n",
    "        end\n",
    "        @uncertain ξ[c in Crops]\n",
    "        @recourse(farmer_model, y[p in setdiff(Crops, [:beets])] >= 0)\n",
    "        @recourse(farmer_model, w[s in Crops ∪ [:extra_beets]] >= 0)\n",
    "        @objective(farmer_model, Min, sum(PurchasePrice[p] * y[p] for p in setdiff(Crops, [:beets]))\n",
    "                   - sum(SellPrice[s] * w[s] for s in Crops ∪ [:extra_beets]))\n",
    "        @constraint(farmer_model, minimum_requirement[p in setdiff(Crops, [:beets])],\n",
    "            ξ[p] * x[p] + y[p] - w[p] >= Required[p])\n",
    "        @constraint(farmer_model, minimum_requirement_beets,\n",
    "            ξ[:beets] * x[:beets] - w[:beets] - w[:extra_beets] >= Required[:beets])\n",
    "        @constraint(farmer_model, beets_quota, w[:beets] <= 6000)\n",
    "    end\n",
    "end"
   ]
  },
  {
   "cell_type": "code",
   "execution_count": 3,
   "id": "dfa9e03f-a0f5-4456-b0ba-12264fb7c4a4",
   "metadata": {},
   "outputs": [
    {
     "data": {
      "text/plain": [
       "Scenario with probability 0.3333333333333333 and underlying data:\n",
       "\n",
       "1-dimensional DenseAxisArray{Float64,1,...} with index sets:\n",
       "    Dimension 1, [:wheat, :corn, :beets]\n",
       "And data, a 3-element Vector{Float64}:\n",
       "  2.0\n",
       "  2.4\n",
       " 16.0"
      ]
     },
     "execution_count": 3,
     "metadata": {},
     "output_type": "execute_result"
    }
   ],
   "source": [
    "ξ₁ = @scenario ξ[c in Crops] = [3.0, 3.6, 24.0] probability = 1/3\n",
    "ξ₂ = @scenario ξ[c in Crops] = [2.5, 3.0, 20.0] probability = 1/3\n",
    "ξ₃ = @scenario ξ[c in Crops] = [2.0, 2.4, 16.0] probability = 1/3"
   ]
  },
  {
   "cell_type": "code",
   "execution_count": 4,
   "id": "0bb178c8-d95d-45f7-a21e-06b4334cbbe2",
   "metadata": {},
   "outputs": [
    {
     "data": {
      "text/plain": [
       "Stochastic program with:\n",
       " * 3 decision variables\n",
       " * 6 recourse variables\n",
       " * 3 scenarios of type Scenario\n",
       "Structure: Deterministic equivalent\n",
       "Solver name: GLPK"
      ]
     },
     "execution_count": 4,
     "metadata": {},
     "output_type": "execute_result"
    }
   ],
   "source": [
    "farmer = instantiate(farmer_model, [ξ₁,ξ₂,ξ₃], optimizer = GLPK.Optimizer)"
   ]
  },
  {
   "cell_type": "code",
   "execution_count": 5,
   "id": "afef09a5-cc32-4ae0-a217-1e8835aa5253",
   "metadata": {},
   "outputs": [
    {
     "name": "stdout",
     "output_type": "stream",
     "text": [
      "Deterministic equivalent problem\n",
      "Min 150 x[wheat] + 230 x[corn] + 260 x[beets] + 79.33333333333333 y₁[wheat] + 70 y₁[corn] - 56.666666666666664 w₁[wheat] - 50 w₁[corn] - 12 w₁[beets] - 3.333333333333333 w₁[extra_beets] + 79.33333333333333 y₂[wheat] + 70 y₂[corn] - 56.666666666666664 w₂[wheat] - 50 w₂[corn] - 12 w₂[beets] - 3.333333333333333 w₂[extra_beets] + 79.33333333333333 y₃[wheat] + 70 y₃[corn] - 56.666666666666664 w₃[wheat] - 50 w₃[corn] - 12 w₃[beets] - 3.333333333333333 w₃[extra_beets]\n",
      "Subject to\n",
      " x[wheat] in Decisions\n",
      " x[corn] in Decisions\n",
      " x[beets] in Decisions\n",
      " y₁[wheat] in RecourseDecisions\n",
      " y₁[corn] in RecourseDecisions\n",
      " w₁[wheat] in RecourseDecisions\n",
      " w₁[corn] in RecourseDecisions\n",
      " w₁[beets] in RecourseDecisions\n",
      " w₁[extra_beets] in RecourseDecisions\n",
      " y₂[wheat] in RecourseDecisions\n",
      " y₂[corn] in RecourseDecisions\n",
      " w₂[wheat] in RecourseDecisions\n",
      " w₂[corn] in RecourseDecisions\n",
      " w₂[beets] in RecourseDecisions\n",
      " w₂[extra_beets] in RecourseDecisions\n",
      " y₃[wheat] in RecourseDecisions\n",
      " y₃[corn] in RecourseDecisions\n",
      " w₃[wheat] in RecourseDecisions\n",
      " w₃[corn] in RecourseDecisions\n",
      " w₃[beets] in RecourseDecisions\n",
      " w₃[extra_beets] in RecourseDecisions\n",
      " x[wheat] >= 0.0\n",
      " x[corn] >= 0.0\n",
      " x[beets] >= 0.0\n",
      " y₁[wheat] >= 0.0\n",
      " y₁[corn] >= 0.0\n",
      " w₁[wheat] >= 0.0\n",
      " w₁[corn] >= 0.0\n",
      " w₁[beets] >= 0.0\n",
      " w₁[extra_beets] >= 0.0\n",
      " y₂[wheat] >= 0.0\n",
      " y₂[corn] >= 0.0\n",
      " w₂[wheat] >= 0.0\n",
      " w₂[corn] >= 0.0\n",
      " w₂[beets] >= 0.0\n",
      " w₂[extra_beets] >= 0.0\n",
      " y₃[wheat] >= 0.0\n",
      " y₃[corn] >= 0.0\n",
      " w₃[wheat] >= 0.0\n",
      " w₃[corn] >= 0.0\n",
      " w₃[beets] >= 0.0\n",
      " w₃[extra_beets] >= 0.0\n",
      " x[wheat] + x[corn] + x[beets] <= 500.0\n",
      " beets_quota₁ : w₁[beets] <= 6000.0\n",
      " beets_quota₂ : w₂[beets] <= 6000.0\n",
      " beets_quota₃ : w₃[beets] <= 6000.0\n",
      " minimum_requirement₁[wheat] : 3 x[wheat] + y₁[wheat] - w₁[wheat] >= 200.0\n",
      " minimum_requirement₁[corn] : 3.6 x[corn] + y₁[corn] - w₁[corn] >= 240.0\n",
      " minimum_requirement_beets₁ : 24 x[beets] - w₁[beets] - w₁[extra_beets] >= 0.0\n",
      " minimum_requirement₂[wheat] : 2.5 x[wheat] + y₂[wheat] - w₂[wheat] >= 200.0\n",
      " minimum_requirement₂[corn] : 3 x[corn] + y₂[corn] - w₂[corn] >= 240.0\n",
      " minimum_requirement_beets₂ : 20 x[beets] - w₂[beets] - w₂[extra_beets] >= 0.0\n",
      " minimum_requirement₃[wheat] : 2 x[wheat] + y₃[wheat] - w₃[wheat] >= 200.0\n",
      " minimum_requirement₃[corn] : 2.4 x[corn] + y₃[corn] - w₃[corn] >= 240.0\n",
      " minimum_requirement_beets₃ : 16 x[beets] - w₃[beets] - w₃[extra_beets] >= 0.0\n",
      "Solver name: GLPK"
     ]
    }
   ],
   "source": [
    "print(farmer)"
   ]
  },
  {
   "cell_type": "code",
   "execution_count": 6,
   "id": "220d1a03-61ef-4be7-9678-f008071ba84f",
   "metadata": {},
   "outputs": [
    {
     "name": "stdout",
     "output_type": "stream",
     "text": [
      "Wheat: 170.00000000000006\n",
      "Corn: 80.00000000000001\n",
      "Beets: 250.0\n",
      "Profit: -108390.00000000001\n"
     ]
    }
   ],
   "source": [
    "optimize!(farmer)\n",
    "x = optimal_decision(farmer)\n",
    "x = farmer[1,:x]\n",
    "println(\"Wheat: $(value(x[:wheat]))\")\n",
    "println(\"Corn: $(value(x[:corn]))\")\n",
    "println(\"Beets: $(value(x[:beets]))\")\n",
    "println(\"Profit: $(objective_value(farmer))\")"
   ]
  },
  {
   "cell_type": "code",
   "execution_count": 7,
   "id": "e63ec567-ec55-4f3c-8a02-df3f435dcc00",
   "metadata": {},
   "outputs": [
    {
     "name": "stdout",
     "output_type": "stream",
     "text": [
      "Purchased wheat: 0.0\n",
      "Purchased corn: 0.0\n",
      "Sold wheat: 310.00000000000017\n",
      "Sold corn: 48.000000000000036\n",
      "Sold beets: 0.0\n",
      "Profit: -275900.00000000006\n"
     ]
    }
   ],
   "source": [
    "y = farmer[2,:y]\n",
    "w = farmer[2,:w]\n",
    "println(\"Purchased wheat: $(value(y[:wheat], 1))\")\n",
    "println(\"Purchased corn: $(value(y[:corn], 1))\")\n",
    "println(\"Sold wheat: $(value(w[:wheat], 1))\")\n",
    "println(\"Sold corn: $(value(w[:corn], 1))\")\n",
    "println(\"Sold beets: $(value(w[:extra_beets], 1))\")\n",
    "println(\"Profit: $(objective_value(farmer, 1))\")"
   ]
  },
  {
   "cell_type": "code",
   "execution_count": 8,
   "id": "81e8eff3-6ece-48e0-89a5-a1656f278219",
   "metadata": {},
   "outputs": [
    {
     "name": "stdout",
     "output_type": "stream",
     "text": [
      "EVPI: 7015.555555555533\n",
      "VSS: 1150.0000000000146\n"
     ]
    }
   ],
   "source": [
    "println(\"EVPI: $(EVPI(farmer))\")\n",
    "println(\"VSS: $(VSS(farmer))\")"
   ]
  },
  {
   "cell_type": "code",
   "execution_count": null,
   "id": "7ef05a28-4c40-439c-8191-826c80d840ef",
   "metadata": {},
   "outputs": [],
   "source": []
  }
 ],
 "metadata": {
  "kernelspec": {
   "display_name": "Julia 1.8.5",
   "language": "julia",
   "name": "julia-1.8"
  },
  "language_info": {
   "file_extension": ".jl",
   "mimetype": "application/julia",
   "name": "julia",
   "version": "1.8.5"
  }
 },
 "nbformat": 4,
 "nbformat_minor": 5
}
