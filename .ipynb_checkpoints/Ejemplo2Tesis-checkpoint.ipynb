{
 "cells": [
  {
   "cell_type": "markdown",
   "id": "01de0913-6e75-494f-a470-5e83e306d4e2",
   "metadata": {},
   "source": [
    "# DDP 3 stages"
   ]
  },
  {
   "cell_type": "markdown",
   "id": "ae1eb08f",
   "metadata": {},
   "source": [
    "# Problema\n",
    "$$ f(c_0)=min \\ [(150 x_1 + 3c_1 + 17520d_1)+ (150 x_2 +  3c_2 + 17520d_2)+(150 x_3 + 3c_3 + 17520d_3)]$$\n",
    "$$ Subject. to: \\ c_0  = 800 $$\n",
    "$$ c_0 + x_1 = c_1 $$\n",
    "$$ c_1 \\ge d_1 $$\n",
    "$$ d_1 = 810 $$\n",
    "$$ c_1 + x_2 = c_2 $$\n",
    "$$ c_2 \\ge d_2 $$\n",
    "$$ d_2 = 870 $$\n",
    "$$ c_2 + x_3 = c_3 $$\n",
    "$$ c_3 \\ge d_3 $$\n",
    "$$ d_3 = 930 $$\n",
    "$$ x_1,x_2,x_3 \\ge 0 $$\n"
   ]
  },
  {
   "cell_type": "markdown",
   "id": "7ce8f34f-05d5-4a96-8e5b-434049c1b645",
   "metadata": {},
   "source": [
    "# master Problem 1\n",
    "$$ f(c_0)=min \\ [(150 x_1 + 3c_1 + 17520d_1)+ \\alpha_1]$$\n",
    "$$ Subject. to: \\ c_0  = 800 $$\n",
    "$$ c_0 + x_1 = \\hat{c}_1 $$\n",
    "$$ \\hat{c}_1 \\ge d_1 $$\n",
    "$$ d_1 = 810 $$\n",
    "$$ \\alpha_1 \\ge \\alpha(\\hat{c}_1) -   ( c_1 - \\hat{c}_1) F_1^T\\lambda^\\hat{c_1}$$\n",
    "$$ x_1 \\ge 0$$"
   ]
  },
  {
   "cell_type": "markdown",
   "id": "3299fd41",
   "metadata": {},
   "source": [
    "# master Problem 2 = Subproblem 1\n",
    "$$ \\alpha(\\hat{c}_1)=min \\ [(150 x_2 + 3c_2 + 17520d_2)+ \\alpha_2]$$\n",
    "$$ Subject. to:  $$\n",
    "$$ \\hat{c}_1 + x_2 = \\hat{c}_2 $$\n",
    "$$ \\hat{c}_2 \\ge d_2 $$\n",
    "$$ d_2 = 870 $$\n",
    "$$ \\alpha_2 \\ge \\alpha(\\hat{c}_2) -   ( c_2 - \\hat{c}_2) F_2^T\\lambda^\\hat{c_2}$$\n",
    "$$ x_2 \\ge 0$$"
   ]
  },
  {
   "cell_type": "markdown",
   "id": "32197689",
   "metadata": {},
   "source": [
    "# master Problem 3 = Subproblem 2\n",
    "$$ \\alpha(\\hat{c}_2)=min \\ [(150 x_3 + 3c_3 + 17520d_3)+ \\alpha_3]$$\n",
    "$$ Subject. to:  $$\n",
    "$$ {c}_2 + x_3 = \\hat{c}_3 $$\n",
    "$$ \\hat{c}_3 \\ge d_3 $$\n",
    "$$ d_3 = 930 $$\n",
    "$$ \\alpha_3 \\ge 0$$\n",
    "$$ x_3 \\ge 0$$"
   ]
  },
  {
   "cell_type": "code",
   "execution_count": 2,
   "id": "373c272e",
   "metadata": {},
   "outputs": [],
   "source": [
    "using JuMP, GLPK, Printf"
   ]
  },
  {
   "cell_type": "code",
   "execution_count": 3,
   "id": "1f580240",
   "metadata": {},
   "outputs": [],
   "source": [
    "d=[810,870,930] \n",
    "c0=800;"
   ]
  },
  {
   "cell_type": "markdown",
   "id": "c2c6771c",
   "metadata": {},
   "source": [
    "# Modeling fordward"
   ]
  },
  {
   "cell_type": "code",
   "execution_count": 4,
   "id": "9c779ed5",
   "metadata": {},
   "outputs": [
    {
     "data": {
      "text/latex": [
       "$$ \\begin{aligned}\n",
       "\\min\\quad & 150 x1 + 3 c1 + α1 + 14191200\\\\\n",
       "\\text{Subject to} \\quad & x1 - c1 = -800.0\\\\\n",
       " & c1 \\geq 810.0\\\\\n",
       " & α1 = 0.0\\\\\n",
       " & x1 \\geq 0.0\\\\\n",
       "\\end{aligned} $$"
      ]
     },
     "metadata": {},
     "output_type": "display_data"
    },
    {
     "data": {
      "text/plain": [
       "Dict{Any, Float64} with 4 entries:\n",
       "  \"c1\"  => 810.0\n",
       "  \"x1\"  => 10.0\n",
       "  'λ'   => 150.0\n",
       "  \"fc0\" => 1.41951e7"
      ]
     },
     "execution_count": 4,
     "metadata": {},
     "output_type": "execute_result"
    }
   ],
   "source": [
    "# Stage 1\n",
    "main = Model(GLPK.Optimizer)\n",
    "@variable(main, 0 ≤ x1)\n",
    "@variable(main, α1 == 0)\n",
    "@variable(main, c1 )\n",
    "\n",
    "@constraint(main, c0 + x1 == c1)\n",
    "@constraint(main,  c1 ≥ d[1])  \n",
    "\n",
    "@objective(main, Min, (150 * x1 + 3 * c1 + 17520 * d[1])  + α1)\n",
    "print(main)\n",
    "\n",
    "optimize!(main)\n",
    "\n",
    "all_con = all_constraints(main, AffExpr, MOI.EqualTo{Float64})   #dual\n",
    "r1= Dict( \"fc0\"=> objective_value(main),    \"x1\" => value.(x1),\n",
    "            \"c1\" => value.(c1),    'λ' => dual.(all_con)[1] )"
   ]
  },
  {
   "cell_type": "code",
   "execution_count": 5,
   "id": "f39e8f83-8f94-413c-92e6-6cd80a0a8052",
   "metadata": {},
   "outputs": [
    {
     "data": {
      "text/latex": [
       "$$ \\begin{aligned}\n",
       "\\min\\quad & 150 x2 + 3 c2 + α2 + 15242400\\\\\n",
       "\\text{Subject to} \\quad & x2 - c2 = -810.0\\\\\n",
       " & c2 \\geq 870.0\\\\\n",
       " & α2 = 0.0\\\\\n",
       " & x2 \\geq 0.0\\\\\n",
       "\\end{aligned} $$"
      ]
     },
     "metadata": {},
     "output_type": "display_data"
    },
    {
     "data": {
      "text/plain": [
       "Dict{Any, Float64} with 4 entries:\n",
       "  \"c2\"  => 870.0\n",
       "  'λ'   => 150.0\n",
       "  \"fc1\" => 1.5254e7\n",
       "  \"x2\"  => 60.0"
      ]
     },
     "execution_count": 5,
     "metadata": {},
     "output_type": "execute_result"
    }
   ],
   "source": [
    "# Stage 2\n",
    "main = Model(GLPK.Optimizer)\n",
    "@variable(main, 0 ≤ x2)\n",
    "@variable(main, α2 == 0)\n",
    "@variable(main, c2 )\n",
    "\n",
    "@constraint(main, r1[\"c1\"] + x2 == c2)\n",
    "@constraint(main,  c2 ≥ d[2])  \n",
    "\n",
    "@objective(main, Min, (150 * x2 + 3 * c2 + 17520 * d[2])  + α2)\n",
    "print(main)\n",
    "\n",
    "optimize!(main)\n",
    "\n",
    "all_con = all_constraints(main, AffExpr, MOI.EqualTo{Float64})   #dual\n",
    "r2= Dict( \"fc1\"=> objective_value(main),    \"x2\" => value.(x2),\n",
    "            \"c2\" => value.(c2),    'λ' => dual.(all_con)[1] )"
   ]
  },
  {
   "cell_type": "code",
   "execution_count": 6,
   "id": "a6b6a193-8aed-4c8c-91bd-70aa659775f9",
   "metadata": {},
   "outputs": [
    {
     "data": {
      "text/latex": [
       "$$ \\begin{aligned}\n",
       "\\min\\quad & 150 x3 + 3 c3 + α3 + 16293600\\\\\n",
       "\\text{Subject to} \\quad & x3 - c3 = -870.0\\\\\n",
       " & c3 \\geq 930.0\\\\\n",
       " & α3 = 0.0\\\\\n",
       " & x3 \\geq 0.0\\\\\n",
       "\\end{aligned} $$"
      ]
     },
     "metadata": {},
     "output_type": "display_data"
    },
    {
     "data": {
      "text/plain": [
       "Dict{Any, Float64} with 4 entries:\n",
       "  'λ'   => 150.0\n",
       "  \"fc2\" => 1.63054e7\n",
       "  \"c3\"  => 930.0\n",
       "  \"x3\"  => 60.0"
      ]
     },
     "execution_count": 6,
     "metadata": {},
     "output_type": "execute_result"
    }
   ],
   "source": [
    "# Stage 3\n",
    "main = Model(GLPK.Optimizer)\n",
    "@variable(main, 0 ≤ x3)\n",
    "@variable(main, α3 == 0)\n",
    "@variable(main, c3 )\n",
    "\n",
    "@constraint(main, r2[\"c2\"] + x3 == c3)\n",
    "@constraint(main,  c3 ≥ d[3])  \n",
    "\n",
    "@objective(main, Min, (150 * x3 + 3 * c3 + 17520 * d[3])  + α3)\n",
    "print(main)\n",
    "\n",
    "optimize!(main)\n",
    "\n",
    "all_con = all_constraints(main, AffExpr, MOI.EqualTo{Float64})   #dual\n",
    "r3= Dict( \"fc2\"=> objective_value(main),    \"x3\" => value.(x3),\n",
    "            \"c3\" => value.(c3),    'λ' => dual.(all_con)[1] )"
   ]
  },
  {
   "cell_type": "code",
   "execution_count": 8,
   "id": "c00fd151-fdd2-4a8f-a1c4-a81b22814e69",
   "metadata": {},
   "outputs": [
    {
     "data": {
      "text/plain": [
       "4.575453e7"
      ]
     },
     "execution_count": 8,
     "metadata": {},
     "output_type": "execute_result"
    }
   ],
   "source": [
    "Zup=r1[\"fc0\"]+r2[\"fc1\"]+r3[\"fc2\"]   #all α =0"
   ]
  },
  {
   "cell_type": "markdown",
   "id": "6c2aa31d",
   "metadata": {},
   "source": [
    "# Backward"
   ]
  },
  {
   "cell_type": "code",
   "execution_count": 265,
   "id": "ac83531e",
   "metadata": {},
   "outputs": [
    {
     "data": {
      "text/plain": [
       "Dict{Any, Float64} with 4 entries:\n",
       "  'λ'   => 150.0\n",
       "  \"fc2\" => 1.63054e7\n",
       "  \"c3\"  => 930.0\n",
       "  \"x3\"  => 60.0"
      ]
     },
     "execution_count": 265,
     "metadata": {},
     "output_type": "execute_result"
    }
   ],
   "source": [
    "# stage 3 es similar unicamente se tiene que obtener el corte de benders y añadir a la etapa anterior\n",
    "# α2 ≥ r3[\"fc2\"] - (c2 - r2[\"c2\"])*r3['λ']\n",
    "# fc2, λ  (del stage 3)\n",
    "# del stage 2 (Formwar) se recupera c2 (r2[\"c2\"])\n",
    "# se considera para todo que α3 (ultimo) =0\n",
    "rb3=r3"
   ]
  },
  {
   "cell_type": "code",
   "execution_count": 266,
   "id": "fe5a35f8-d428-4558-bbde-4def37b40aa2",
   "metadata": {},
   "outputs": [
    {
     "data": {
      "text/latex": [
       "$$ \\begin{aligned}\n",
       "\\min\\quad & 150 x2 + 3 c2 + α2 + 15242400\\\\\n",
       "\\text{Subject to} \\quad & x2 - c2 = -810.0\\\\\n",
       " & c2 \\geq 870.0\\\\\n",
       " & α2 + 150 c2 \\geq 1.643589e7\\\\\n",
       " & x2 \\geq 0.0\\\\\n",
       " & α2 \\geq 0.0\\\\\n",
       "\\end{aligned} $$"
      ]
     },
     "metadata": {},
     "output_type": "display_data"
    },
    {
     "data": {
      "text/plain": [
       "Dict{Any, Float64} with 4 entries:\n",
       "  \"c2\"  => 870.0\n",
       "  'λ'   => 150.0\n",
       "  \"fc1\" => 3.15594e7\n",
       "  \"x2\"  => 60.0"
      ]
     },
     "execution_count": 266,
     "metadata": {},
     "output_type": "execute_result"
    }
   ],
   "source": [
    "# Stage 2\n",
    "main = Model(GLPK.Optimizer)\n",
    "@variable(main, 0 ≤ x2)\n",
    "@variable(main, α2 ≥ 0)\n",
    "@variable(main, c2 )\n",
    "\n",
    "@constraint(main, r1[\"c1\"] + x2 == c2)\n",
    "@constraint(main,  c2 ≥ d[2])  \n",
    "@constraint(main, α2 ≥ rb3[\"fc2\"] - (c2 - r2[\"c2\"])*rb3['λ'])\n",
    "\n",
    "@objective(main, Min, (150 * x2 + 3 * c2 + 17520 * d[2])  + α2)\n",
    "print(main)\n",
    "\n",
    "optimize!(main)\n",
    "\n",
    "all_con = all_constraints(main, AffExpr, MOI.EqualTo{Float64})   #dual\n",
    "rb2= Dict( \"fc1\"=> objective_value(main),    \"x2\" => value.(x2),\n",
    "            \"c2\" => value.(c2),    'λ' => dual.(all_con)[1] )"
   ]
  },
  {
   "cell_type": "code",
   "execution_count": 267,
   "id": "7b2ed137-564d-49f4-b7c8-1d954b7ff661",
   "metadata": {},
   "outputs": [
    {
     "data": {
      "text/latex": [
       "$$ \\begin{aligned}\n",
       "\\min\\quad & 150 x1 + 3 c1 + α1 + 14191200\\\\\n",
       "\\text{Subject to} \\quad & x1 - c1 = -800.0\\\\\n",
       " & c1 \\geq 810.0\\\\\n",
       " & α1 + 150 c1 \\geq 3.16809e7\\\\\n",
       " & x1 \\geq 0.0\\\\\n",
       " & α1 \\geq 0.0\\\\\n",
       "\\end{aligned} $$"
      ]
     },
     "metadata": {},
     "output_type": "display_data"
    },
    {
     "data": {
      "text/plain": [
       "Dict{Any, Float64} with 5 entries:\n",
       "  \"α1\"  => 3.15594e7\n",
       "  \"c1\"  => 810.0\n",
       "  \"x1\"  => 10.0\n",
       "  'λ'   => 150.0\n",
       "  \"fc0\" => 4.57545e7"
      ]
     },
     "execution_count": 267,
     "metadata": {},
     "output_type": "execute_result"
    }
   ],
   "source": [
    "# Stage 1\n",
    "main = Model(GLPK.Optimizer)\n",
    "@variable(main, 0 ≤ x1)\n",
    "@variable(main, α1 ≥ 0)\n",
    "@variable(main, c1 )\n",
    "\n",
    "@constraint(main, c0 + x1 == c1)\n",
    "@constraint(main,  c1 ≥ d[1])  \n",
    "\n",
    "@constraint(main, α1 ≥ rb2[\"fc1\"] - (c1 - rb1[\"c1\"])*rb2['λ'])\n",
    "\n",
    "@objective(main, Min, (150 * x1 + 3 * c1 + 17520 * d[1])  + α1)\n",
    "print(main)\n",
    "\n",
    "optimize!(main)\n",
    "\n",
    "all_con = all_constraints(main, AffExpr, MOI.EqualTo{Float64})   #dual\n",
    "rb1= Dict( \"fc0\"=> objective_value(main),    \"x1\" => value.(x1),\n",
    "            \"c1\" => value.(c1),    'λ' => dual.(all_con)[1], \"α1\"=> value.(α1) )"
   ]
  },
  {
   "cell_type": "code",
   "execution_count": 268,
   "id": "90d7e1ab-341f-4a71-ac2c-5e949774ad8e",
   "metadata": {},
   "outputs": [
    {
     "data": {
      "text/plain": [
       "4.575453e7"
      ]
     },
     "execution_count": 268,
     "metadata": {},
     "output_type": "execute_result"
    }
   ],
   "source": [
    "Zlow=(150* rb1[\"x1\"]+3*rb1[\"c1\"]+17520*d[1]+rb1[\"α1\"])"
   ]
  },
  {
   "cell_type": "code",
   "execution_count": 269,
   "id": "9362b619-58a9-4ed0-bfeb-81e233472ecf",
   "metadata": {},
   "outputs": [
    {
     "data": {
      "text/plain": [
       "0.0"
      ]
     },
     "execution_count": 269,
     "metadata": {},
     "output_type": "execute_result"
    }
   ],
   "source": [
    "ϵ = Zup-Zlow  #criterio convergencia simple"
   ]
  },
  {
   "cell_type": "code",
   "execution_count": null,
   "id": "02af0551-d853-487e-8161-824bcd45fb47",
   "metadata": {},
   "outputs": [],
   "source": []
  },
  {
   "cell_type": "code",
   "execution_count": null,
   "id": "fcdd61c8-3904-4006-8e94-97310efe2fcb",
   "metadata": {},
   "outputs": [],
   "source": []
  }
 ],
 "metadata": {
  "kernelspec": {
   "display_name": "Julia 1.8.5",
   "language": "julia",
   "name": "julia-1.8"
  },
  "language_info": {
   "file_extension": ".jl",
   "mimetype": "application/julia",
   "name": "julia",
   "version": "1.8.5"
  }
 },
 "nbformat": 4,
 "nbformat_minor": 5
}
